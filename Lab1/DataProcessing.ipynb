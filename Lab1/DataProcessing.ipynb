{
 "cells": [
  {
   "cell_type": "code",
   "execution_count": 1,
   "id": "36da26b5",
   "metadata": {},
   "outputs": [],
   "source": [
    "#Importing Libraries\n",
    "import numpy as np\n",
    "import matplotlib.pyplot as plt\n",
    "import pandas as pd"
   ]
  },
  {
   "cell_type": "code",
   "execution_count": 2,
   "id": "fd048be2",
   "metadata": {},
   "outputs": [],
   "source": [
    "data = pd.read_csv(\"L1Data.csv\")"
   ]
  },
  {
   "cell_type": "code",
   "execution_count": 3,
   "id": "e46afd2a",
   "metadata": {},
   "outputs": [
    {
     "data": {
      "text/html": [
       "<div>\n",
       "<style scoped>\n",
       "    .dataframe tbody tr th:only-of-type {\n",
       "        vertical-align: middle;\n",
       "    }\n",
       "\n",
       "    .dataframe tbody tr th {\n",
       "        vertical-align: top;\n",
       "    }\n",
       "\n",
       "    .dataframe thead th {\n",
       "        text-align: right;\n",
       "    }\n",
       "</style>\n",
       "<table border=\"1\" class=\"dataframe\">\n",
       "  <thead>\n",
       "    <tr style=\"text-align: right;\">\n",
       "      <th></th>\n",
       "      <th>Class</th>\n",
       "      <th>Age</th>\n",
       "      <th>Funds</th>\n",
       "      <th>Sale</th>\n",
       "    </tr>\n",
       "  </thead>\n",
       "  <tbody>\n",
       "    <tr>\n",
       "      <th>0</th>\n",
       "      <td>Freshmen</td>\n",
       "      <td>18.0</td>\n",
       "      <td>600.0</td>\n",
       "      <td>No</td>\n",
       "    </tr>\n",
       "    <tr>\n",
       "      <th>1</th>\n",
       "      <td>Freshmen</td>\n",
       "      <td>18.0</td>\n",
       "      <td>500.0</td>\n",
       "      <td>No</td>\n",
       "    </tr>\n",
       "    <tr>\n",
       "      <th>2</th>\n",
       "      <td>Freshmen</td>\n",
       "      <td>18.0</td>\n",
       "      <td>600.0</td>\n",
       "      <td>No</td>\n",
       "    </tr>\n",
       "    <tr>\n",
       "      <th>3</th>\n",
       "      <td>Senior</td>\n",
       "      <td>23.0</td>\n",
       "      <td>800.0</td>\n",
       "      <td>No</td>\n",
       "    </tr>\n",
       "    <tr>\n",
       "      <th>4</th>\n",
       "      <td>Junior</td>\n",
       "      <td>21.0</td>\n",
       "      <td>400.0</td>\n",
       "      <td>Yes</td>\n",
       "    </tr>\n",
       "    <tr>\n",
       "      <th>5</th>\n",
       "      <td>Freshmen</td>\n",
       "      <td>19.0</td>\n",
       "      <td>600.0</td>\n",
       "      <td>No</td>\n",
       "    </tr>\n",
       "    <tr>\n",
       "      <th>6</th>\n",
       "      <td>Freshmen</td>\n",
       "      <td>20.0</td>\n",
       "      <td>600.0</td>\n",
       "      <td>No</td>\n",
       "    </tr>\n",
       "    <tr>\n",
       "      <th>7</th>\n",
       "      <td>Senior</td>\n",
       "      <td>24.0</td>\n",
       "      <td>NaN</td>\n",
       "      <td>Yes</td>\n",
       "    </tr>\n",
       "    <tr>\n",
       "      <th>8</th>\n",
       "      <td>Sophomore</td>\n",
       "      <td>23.0</td>\n",
       "      <td>620.0</td>\n",
       "      <td>Yes</td>\n",
       "    </tr>\n",
       "    <tr>\n",
       "      <th>9</th>\n",
       "      <td>Sophomore</td>\n",
       "      <td>25.0</td>\n",
       "      <td>800.0</td>\n",
       "      <td>Yes</td>\n",
       "    </tr>\n",
       "    <tr>\n",
       "      <th>10</th>\n",
       "      <td>Junior</td>\n",
       "      <td>21.0</td>\n",
       "      <td>900.0</td>\n",
       "      <td>No</td>\n",
       "    </tr>\n",
       "    <tr>\n",
       "      <th>11</th>\n",
       "      <td>Junior</td>\n",
       "      <td>21.0</td>\n",
       "      <td>650.0</td>\n",
       "      <td>Yes</td>\n",
       "    </tr>\n",
       "    <tr>\n",
       "      <th>12</th>\n",
       "      <td>Sophomore</td>\n",
       "      <td>NaN</td>\n",
       "      <td>500.0</td>\n",
       "      <td>No</td>\n",
       "    </tr>\n",
       "    <tr>\n",
       "      <th>13</th>\n",
       "      <td>Junior</td>\n",
       "      <td>21.0</td>\n",
       "      <td>800.0</td>\n",
       "      <td>No</td>\n",
       "    </tr>\n",
       "    <tr>\n",
       "      <th>14</th>\n",
       "      <td>Junior</td>\n",
       "      <td>20.0</td>\n",
       "      <td>650.0</td>\n",
       "      <td>Yes</td>\n",
       "    </tr>\n",
       "    <tr>\n",
       "      <th>15</th>\n",
       "      <td>Sophomore</td>\n",
       "      <td>21.0</td>\n",
       "      <td>580.0</td>\n",
       "      <td>Yes</td>\n",
       "    </tr>\n",
       "    <tr>\n",
       "      <th>16</th>\n",
       "      <td>Sophomore</td>\n",
       "      <td>20.0</td>\n",
       "      <td>800.0</td>\n",
       "      <td>Yes</td>\n",
       "    </tr>\n",
       "    <tr>\n",
       "      <th>17</th>\n",
       "      <td>Senior</td>\n",
       "      <td>26.0</td>\n",
       "      <td>NaN</td>\n",
       "      <td>Yes</td>\n",
       "    </tr>\n",
       "    <tr>\n",
       "      <th>18</th>\n",
       "      <td>Senior</td>\n",
       "      <td>25.0</td>\n",
       "      <td>NaN</td>\n",
       "      <td>Yes</td>\n",
       "    </tr>\n",
       "    <tr>\n",
       "      <th>19</th>\n",
       "      <td>Senior</td>\n",
       "      <td>41.0</td>\n",
       "      <td>NaN</td>\n",
       "      <td>Yes</td>\n",
       "    </tr>\n",
       "    <tr>\n",
       "      <th>20</th>\n",
       "      <td>Sophomore</td>\n",
       "      <td>NaN</td>\n",
       "      <td>500.0</td>\n",
       "      <td>No</td>\n",
       "    </tr>\n",
       "    <tr>\n",
       "      <th>21</th>\n",
       "      <td>Freshmen</td>\n",
       "      <td>18.0</td>\n",
       "      <td>500.0</td>\n",
       "      <td>No</td>\n",
       "    </tr>\n",
       "    <tr>\n",
       "      <th>22</th>\n",
       "      <td>Freshmen</td>\n",
       "      <td>18.0</td>\n",
       "      <td>500.0</td>\n",
       "      <td>No</td>\n",
       "    </tr>\n",
       "    <tr>\n",
       "      <th>23</th>\n",
       "      <td>Freshmen</td>\n",
       "      <td>18.0</td>\n",
       "      <td>600.0</td>\n",
       "      <td>No</td>\n",
       "    </tr>\n",
       "  </tbody>\n",
       "</table>\n",
       "</div>"
      ],
      "text/plain": [
       "        Class   Age  Funds Sale\n",
       "0    Freshmen  18.0  600.0   No\n",
       "1    Freshmen  18.0  500.0   No\n",
       "2    Freshmen  18.0  600.0   No\n",
       "3      Senior  23.0  800.0   No\n",
       "4      Junior  21.0  400.0  Yes\n",
       "5    Freshmen  19.0  600.0   No\n",
       "6    Freshmen  20.0  600.0   No\n",
       "7      Senior  24.0    NaN  Yes\n",
       "8   Sophomore  23.0  620.0  Yes\n",
       "9   Sophomore  25.0  800.0  Yes\n",
       "10     Junior  21.0  900.0   No\n",
       "11     Junior  21.0  650.0  Yes\n",
       "12  Sophomore   NaN  500.0   No\n",
       "13     Junior  21.0  800.0   No\n",
       "14     Junior  20.0  650.0  Yes\n",
       "15  Sophomore  21.0  580.0  Yes\n",
       "16  Sophomore  20.0  800.0  Yes\n",
       "17     Senior  26.0    NaN  Yes\n",
       "18     Senior  25.0    NaN  Yes\n",
       "19     Senior  41.0    NaN  Yes\n",
       "20  Sophomore   NaN  500.0   No\n",
       "21   Freshmen  18.0  500.0   No\n",
       "22   Freshmen  18.0  500.0   No\n",
       "23   Freshmen  18.0  600.0   No"
      ]
     },
     "execution_count": 3,
     "metadata": {},
     "output_type": "execute_result"
    }
   ],
   "source": [
    "data"
   ]
  },
  {
   "cell_type": "code",
   "execution_count": 38,
   "id": "bffa4903",
   "metadata": {},
   "outputs": [],
   "source": [
    "#without the .values at the end, data is imported with pandas, creating a \"pretty\" data table.  \n",
    "#using .values saves the information in a raw format\n",
    "x = data[[\"Class\", \"Age\", \"Funds\"]].values\n"
   ]
  },
  {
   "cell_type": "code",
   "execution_count": 43,
   "id": "f944cafb",
   "metadata": {},
   "outputs": [
    {
     "data": {
      "text/plain": [
       "array([['Freshmen', 18.0, 600.0],\n",
       "       ['Freshmen', 18.0, 500.0],\n",
       "       ['Freshmen', 18.0, 600.0],\n",
       "       ['Senior', 23.0, 800.0],\n",
       "       ['Junior', 21.0, 400.0],\n",
       "       ['Freshmen', 19.0, 600.0],\n",
       "       ['Freshmen', 20.0, 600.0],\n",
       "       ['Senior', 24.0, nan],\n",
       "       ['Sophomore', 23.0, 620.0],\n",
       "       ['Sophomore', 25.0, 800.0],\n",
       "       ['Junior', 21.0, 900.0],\n",
       "       ['Junior', 21.0, 650.0],\n",
       "       ['Sophomore', nan, 500.0],\n",
       "       ['Junior', 21.0, 800.0],\n",
       "       ['Junior', 20.0, 650.0],\n",
       "       ['Sophomore', 21.0, 580.0],\n",
       "       ['Sophomore', 20.0, 800.0],\n",
       "       ['Senior', 26.0, nan],\n",
       "       ['Senior', 25.0, nan],\n",
       "       ['Senior', 41.0, nan],\n",
       "       ['Sophomore', nan, 500.0],\n",
       "       ['Freshmen', 18.0, 500.0],\n",
       "       ['Freshmen', 18.0, 500.0],\n",
       "       ['Freshmen', 18.0, 600.0]], dtype=object)"
      ]
     },
     "execution_count": 43,
     "metadata": {},
     "output_type": "execute_result"
    }
   ],
   "source": [
    "x"
   ]
  },
  {
   "cell_type": "code",
   "execution_count": 6,
   "id": "77f85191",
   "metadata": {},
   "outputs": [],
   "source": [
    "y = data[[\"Sale\"]].values"
   ]
  },
  {
   "cell_type": "code",
   "execution_count": 7,
   "id": "0f6623ce",
   "metadata": {},
   "outputs": [
    {
     "data": {
      "text/plain": [
       "array([['No'],\n",
       "       ['No'],\n",
       "       ['No'],\n",
       "       ['No'],\n",
       "       ['Yes'],\n",
       "       ['No'],\n",
       "       ['No'],\n",
       "       ['Yes'],\n",
       "       ['Yes'],\n",
       "       ['Yes'],\n",
       "       ['No'],\n",
       "       ['Yes'],\n",
       "       ['No'],\n",
       "       ['No'],\n",
       "       ['Yes'],\n",
       "       ['Yes'],\n",
       "       ['Yes'],\n",
       "       ['Yes'],\n",
       "       ['Yes'],\n",
       "       ['Yes'],\n",
       "       ['No'],\n",
       "       ['No'],\n",
       "       ['No'],\n",
       "       ['No']], dtype=object)"
      ]
     },
     "execution_count": 7,
     "metadata": {},
     "output_type": "execute_result"
    }
   ],
   "source": [
    "y"
   ]
  },
  {
   "cell_type": "code",
   "execution_count": 44,
   "id": "62bcd824",
   "metadata": {},
   "outputs": [
    {
     "data": {
      "text/plain": [
       "array([['Freshmen', 18.0, 600.0],\n",
       "       ['Freshmen', 18.0, 500.0],\n",
       "       ['Freshmen', 18.0, 600.0],\n",
       "       ['Senior', 23.0, 800.0],\n",
       "       ['Junior', 21.0, 400.0],\n",
       "       ['Freshmen', 19.0, 600.0],\n",
       "       ['Freshmen', 20.0, 600.0],\n",
       "       ['Senior', 24.0, nan],\n",
       "       ['Sophomore', 23.0, 620.0],\n",
       "       ['Sophomore', 25.0, 800.0],\n",
       "       ['Junior', 21.0, 900.0],\n",
       "       ['Junior', 21.0, 650.0],\n",
       "       ['Sophomore', nan, 500.0],\n",
       "       ['Junior', 21.0, 800.0],\n",
       "       ['Junior', 20.0, 650.0],\n",
       "       ['Sophomore', 21.0, 580.0],\n",
       "       ['Sophomore', 20.0, 800.0],\n",
       "       ['Senior', 26.0, nan],\n",
       "       ['Senior', 25.0, nan],\n",
       "       ['Senior', 41.0, nan],\n",
       "       ['Sophomore', nan, 500.0],\n",
       "       ['Freshmen', 18.0, 500.0],\n",
       "       ['Freshmen', 18.0, 500.0],\n",
       "       ['Freshmen', 18.0, 600.0]], dtype=object)"
      ]
     },
     "execution_count": 44,
     "metadata": {},
     "output_type": "execute_result"
    }
   ],
   "source": [
    "x"
   ]
  },
  {
   "cell_type": "code",
   "execution_count": 45,
   "id": "ff336c25",
   "metadata": {},
   "outputs": [],
   "source": [
    "from sklearn.preprocessing import Imputer"
   ]
  },
  {
   "cell_type": "code",
   "execution_count": 46,
   "id": "b4352192",
   "metadata": {},
   "outputs": [],
   "source": [
    "#imputing the missing values...axis = 0 means by column\n",
    "imputing_configuration = Imputer(missing_values = 'NaN', strategy = 'mean', axis = 0)"
   ]
  },
  {
   "cell_type": "code",
   "execution_count": 47,
   "id": "17b3a01b",
   "metadata": {},
   "outputs": [],
   "source": [
    "imputed_values = imputing_configuration.fit(x[:,[1,2]])"
   ]
  },
  {
   "cell_type": "code",
   "execution_count": null,
   "id": "2ff511a2",
   "metadata": {},
   "outputs": [],
   "source": []
  },
  {
   "cell_type": "code",
   "execution_count": 48,
   "id": "f2a5adce",
   "metadata": {},
   "outputs": [],
   "source": [
    "#this says to look at x, look at the column1 and column2 of x (age and funds), then replace\n",
    "#the missing values with these imputed values\n",
    "x[:,[1,2]] = imputed_values.transform(x[:,[1,2]])"
   ]
  },
  {
   "cell_type": "code",
   "execution_count": 50,
   "id": "5ede1fa8",
   "metadata": {},
   "outputs": [
    {
     "data": {
      "text/plain": [
       "625.0"
      ]
     },
     "execution_count": 50,
     "metadata": {},
     "output_type": "execute_result"
    }
   ],
   "source": [
    "x[7][2]"
   ]
  },
  {
   "cell_type": "code",
   "execution_count": 15,
   "id": "eee20569",
   "metadata": {},
   "outputs": [],
   "source": [
    "from sklearn.preprocessing import LabelEncoder"
   ]
  },
  {
   "cell_type": "code",
   "execution_count": 18,
   "id": "16a0eeda",
   "metadata": {},
   "outputs": [],
   "source": [
    "discreteCoder_x = LabelEncoder()\n",
    "\n",
    "#replace the first column with the output of discreteCoder\n",
    "#by using .fit_transform, we will encode the discrete column AND return the encoded labels\n",
    "x[:,0] = discreteCoder_x.fit_transform(x[:,0])"
   ]
  },
  {
   "cell_type": "code",
   "execution_count": 19,
   "id": "7cfff1ae",
   "metadata": {},
   "outputs": [
    {
     "data": {
      "text/plain": [
       "array([[0, 18.0, 600.0],\n",
       "       [0, 18.0, 500.0],\n",
       "       [0, 18.0, 600.0],\n",
       "       [2, 23.0, 800.0],\n",
       "       [1, 21.0, 400.0],\n",
       "       [0, 19.0, 600.0],\n",
       "       [0, 20.0, 600.0],\n",
       "       [2, 24.0, 625.0],\n",
       "       [3, 23.0, 620.0],\n",
       "       [3, 25.0, 800.0],\n",
       "       [1, 21.0, 900.0],\n",
       "       [1, 21.0, 650.0],\n",
       "       [3, 21.772727272727273, 500.0],\n",
       "       [1, 21.0, 800.0],\n",
       "       [1, 20.0, 650.0],\n",
       "       [3, 21.0, 580.0],\n",
       "       [3, 20.0, 800.0],\n",
       "       [2, 26.0, 625.0],\n",
       "       [2, 25.0, 625.0],\n",
       "       [2, 41.0, 625.0],\n",
       "       [3, 21.772727272727273, 500.0],\n",
       "       [0, 18.0, 500.0],\n",
       "       [0, 18.0, 500.0],\n",
       "       [0, 18.0, 600.0]], dtype=object)"
      ]
     },
     "execution_count": 19,
     "metadata": {},
     "output_type": "execute_result"
    }
   ],
   "source": [
    "x"
   ]
  },
  {
   "cell_type": "code",
   "execution_count": 20,
   "id": "45f34194",
   "metadata": {},
   "outputs": [],
   "source": [
    "from sklearn.preprocessing import OneHotEncoder"
   ]
  },
  {
   "cell_type": "code",
   "execution_count": 21,
   "id": "82e34ec2",
   "metadata": {},
   "outputs": [],
   "source": [
    "#the default for OneHotEncoder is to try and catergorize and pivot wider ALL the columns, \n",
    "#by specifiying column zero, we only want to apply it to the first column.\n",
    "\n",
    "#we are creating a function using OneHotEncoder as a base to alter the first column in the entry\n",
    "discreteCoder_x_dummies = OneHotEncoder(categorical_features = [0])\n",
    "x = discreteCoder_x_dummies.fit_transform(x).toarray()\n",
    "\n",
    "#the effect of this is to take a single column with categorical information, and create multiple columns\n",
    "#that are all binary representations of the total number of categories in the categorical column data.\n",
    "#in this case, there are four classes.  Now we have four columns, all binary."
   ]
  },
  {
   "cell_type": "code",
   "execution_count": 22,
   "id": "410c3508",
   "metadata": {},
   "outputs": [
    {
     "data": {
      "text/plain": [
       "array([[  1.        ,   0.        ,   0.        ,   0.        ,\n",
       "         18.        , 600.        ],\n",
       "       [  1.        ,   0.        ,   0.        ,   0.        ,\n",
       "         18.        , 500.        ],\n",
       "       [  1.        ,   0.        ,   0.        ,   0.        ,\n",
       "         18.        , 600.        ],\n",
       "       [  0.        ,   0.        ,   1.        ,   0.        ,\n",
       "         23.        , 800.        ],\n",
       "       [  0.        ,   1.        ,   0.        ,   0.        ,\n",
       "         21.        , 400.        ],\n",
       "       [  1.        ,   0.        ,   0.        ,   0.        ,\n",
       "         19.        , 600.        ],\n",
       "       [  1.        ,   0.        ,   0.        ,   0.        ,\n",
       "         20.        , 600.        ],\n",
       "       [  0.        ,   0.        ,   1.        ,   0.        ,\n",
       "         24.        , 625.        ],\n",
       "       [  0.        ,   0.        ,   0.        ,   1.        ,\n",
       "         23.        , 620.        ],\n",
       "       [  0.        ,   0.        ,   0.        ,   1.        ,\n",
       "         25.        , 800.        ],\n",
       "       [  0.        ,   1.        ,   0.        ,   0.        ,\n",
       "         21.        , 900.        ],\n",
       "       [  0.        ,   1.        ,   0.        ,   0.        ,\n",
       "         21.        , 650.        ],\n",
       "       [  0.        ,   0.        ,   0.        ,   1.        ,\n",
       "         21.77272727, 500.        ],\n",
       "       [  0.        ,   1.        ,   0.        ,   0.        ,\n",
       "         21.        , 800.        ],\n",
       "       [  0.        ,   1.        ,   0.        ,   0.        ,\n",
       "         20.        , 650.        ],\n",
       "       [  0.        ,   0.        ,   0.        ,   1.        ,\n",
       "         21.        , 580.        ],\n",
       "       [  0.        ,   0.        ,   0.        ,   1.        ,\n",
       "         20.        , 800.        ],\n",
       "       [  0.        ,   0.        ,   1.        ,   0.        ,\n",
       "         26.        , 625.        ],\n",
       "       [  0.        ,   0.        ,   1.        ,   0.        ,\n",
       "         25.        , 625.        ],\n",
       "       [  0.        ,   0.        ,   1.        ,   0.        ,\n",
       "         41.        , 625.        ],\n",
       "       [  0.        ,   0.        ,   0.        ,   1.        ,\n",
       "         21.77272727, 500.        ],\n",
       "       [  1.        ,   0.        ,   0.        ,   0.        ,\n",
       "         18.        , 500.        ],\n",
       "       [  1.        ,   0.        ,   0.        ,   0.        ,\n",
       "         18.        , 500.        ],\n",
       "       [  1.        ,   0.        ,   0.        ,   0.        ,\n",
       "         18.        , 600.        ]])"
      ]
     },
     "execution_count": 22,
     "metadata": {},
     "output_type": "execute_result"
    }
   ],
   "source": [
    "x"
   ]
  },
  {
   "cell_type": "code",
   "execution_count": 23,
   "id": "6e07f0f2",
   "metadata": {},
   "outputs": [
    {
     "name": "stderr",
     "output_type": "stream",
     "text": [
      "/home/scott/anaconda3/envs/conda_ML/lib/python3.5/site-packages/sklearn/preprocessing/label.py:111: DataConversionWarning: A column-vector y was passed when a 1d array was expected. Please change the shape of y to (n_samples, ), for example using ravel().\n",
      "  y = column_or_1d(y, warn=True)\n"
     ]
    }
   ],
   "source": [
    "#this is going to change the categorical data for our outcome variable\n",
    "#we have create a new encoder each time\n",
    "#since the outcome variable has only two categories, we dont have to worry about the weights of\n",
    "#the categories, so we can just leave them as 1s and 0s\n",
    "discreteCoder_y = LabelEncoder()\n",
    "y = discreteCoder_y.fit_transform(y)"
   ]
  },
  {
   "cell_type": "code",
   "execution_count": 24,
   "id": "176aa67b",
   "metadata": {},
   "outputs": [
    {
     "data": {
      "text/plain": [
       "array([0, 0, 0, 0, 1, 0, 0, 1, 1, 1, 0, 1, 0, 0, 1, 1, 1, 1, 1, 1, 0, 0,\n",
       "       0, 0])"
      ]
     },
     "execution_count": 24,
     "metadata": {},
     "output_type": "execute_result"
    }
   ],
   "source": [
    "y"
   ]
  },
  {
   "cell_type": "code",
   "execution_count": 25,
   "id": "a4589557",
   "metadata": {},
   "outputs": [
    {
     "name": "stderr",
     "output_type": "stream",
     "text": [
      "/home/scott/anaconda3/envs/conda_ML/lib/python3.5/site-packages/sklearn/cross_validation.py:41: DeprecationWarning: This module was deprecated in version 0.18 in favor of the model_selection module into which all the refactored classes and functions are moved. Also note that the interface of the new CV iterators are different from that of this module. This module will be removed in 0.20.\n",
      "  \"This module will be removed in 0.20.\", DeprecationWarning)\n"
     ]
    }
   ],
   "source": [
    "from sklearn.cross_validation import train_test_split"
   ]
  },
  {
   "cell_type": "code",
   "execution_count": 27,
   "id": "6c06f6c1",
   "metadata": {},
   "outputs": [],
   "source": [
    "#we are creating a split between the training and testing data\n",
    "\n",
    "#train_test_split will set aside 20% of the data for testing, and we have set a seed at 1693 for replication \n",
    "x_train, x_test, y_train, y_test = train_test_split(x, y, test_size = 0.2, random_state=1693)"
   ]
  },
  {
   "cell_type": "code",
   "execution_count": 31,
   "id": "c98543a2",
   "metadata": {},
   "outputs": [
    {
     "data": {
      "text/plain": [
       "array([1, 1, 0, 1, 0, 1, 1, 1, 1, 1, 0, 0, 0, 0, 0, 0, 1, 0, 1])"
      ]
     },
     "execution_count": 31,
     "metadata": {},
     "output_type": "execute_result"
    }
   ],
   "source": [
    "y_train"
   ]
  },
  {
   "cell_type": "code",
   "execution_count": 36,
   "id": "13b318db",
   "metadata": {},
   "outputs": [],
   "source": [
    "#feature scaling\n",
    "from sklearn.preprocessing import StandardScaler\n",
    "\n",
    "scale_x = StandardScaler()\n",
    "x_train = scale_x.fit_transform(x_train)\n",
    "x_test = scale_x.transform(x_test)"
   ]
  },
  {
   "cell_type": "code",
   "execution_count": 35,
   "id": "81a13b67",
   "metadata": {},
   "outputs": [
    {
     "data": {
      "text/plain": [
       "array([[-0.67936622,  1.93649167, -0.5976143 , -0.51639778, -0.24692088,\n",
       "         0.14633175],\n",
       "       [-0.67936622, -0.51639778,  1.67332005, -0.51639778,  0.7398184 ,\n",
       "        -0.06429728],\n",
       "       [ 1.47196014, -0.51639778, -0.5976143 , -0.51639778, -0.83896446,\n",
       "        -1.11744247],\n",
       "       [-0.67936622,  1.93649167, -0.5976143 , -0.51639778, -0.24692088,\n",
       "        -1.95995861],\n",
       "       [ 1.47196014, -0.51639778, -0.5976143 , -0.51639778, -0.44426874,\n",
       "        -0.27492632],\n",
       "       [-0.67936622, -0.51639778, -0.5976143 ,  1.93649167,  0.14777483,\n",
       "        -0.10642309],\n",
       "       [-0.67936622, -0.51639778, -0.5976143 ,  1.93649167,  0.54247055,\n",
       "         1.41010597],\n",
       "       [-0.67936622, -0.51639778,  1.67332005, -0.51639778,  3.70003627,\n",
       "        -0.06429728],\n",
       "       [-0.67936622, -0.51639778,  1.67332005, -0.51639778,  0.34512269,\n",
       "        -0.06429728],\n",
       "       [-0.67936622, -0.51639778,  1.67332005, -0.51639778,  0.54247055,\n",
       "        -0.06429728],\n",
       "       [ 1.47196014, -0.51639778, -0.5976143 , -0.51639778, -0.83896446,\n",
       "        -0.27492632],\n",
       "       [-0.67936622, -0.51639778, -0.5976143 ,  1.93649167, -0.09442481,\n",
       "        -1.11744247],\n",
       "       [-0.67936622,  1.93649167, -0.5976143 , -0.51639778, -0.24692088,\n",
       "         2.25262211],\n",
       "       [-0.67936622, -0.51639778,  1.67332005, -0.51639778,  0.14777483,\n",
       "         1.41010597],\n",
       "       [ 1.47196014, -0.51639778, -0.5976143 , -0.51639778, -0.83896446,\n",
       "        -0.27492632],\n",
       "       [ 1.47196014, -0.51639778, -0.5976143 , -0.51639778, -0.83896446,\n",
       "        -1.11744247],\n",
       "       [-0.67936622,  1.93649167, -0.5976143 , -0.51639778, -0.44426874,\n",
       "         0.14633175],\n",
       "       [ 1.47196014, -0.51639778, -0.5976143 , -0.51639778, -0.6416166 ,\n",
       "        -0.27492632],\n",
       "       [-0.67936622, -0.51639778, -0.5976143 ,  1.93649167, -0.44426874,\n",
       "         1.41010597]])"
      ]
     },
     "execution_count": 35,
     "metadata": {},
     "output_type": "execute_result"
    }
   ],
   "source": [
    "x_train"
   ]
  },
  {
   "cell_type": "code",
   "execution_count": 37,
   "id": "d14275e6",
   "metadata": {},
   "outputs": [
    {
     "data": {
      "text/plain": [
       "array([0, 1, 0, 0, 0])"
      ]
     },
     "execution_count": 37,
     "metadata": {},
     "output_type": "execute_result"
    }
   ],
   "source": [
    "y_test"
   ]
  },
  {
   "cell_type": "code",
   "execution_count": null,
   "id": "337af2a2",
   "metadata": {},
   "outputs": [],
   "source": []
  }
 ],
 "metadata": {
  "kernelspec": {
   "display_name": "conda_ML",
   "language": "python",
   "name": "conda_ml"
  },
  "language_info": {
   "codemirror_mode": {
    "name": "ipython",
    "version": 3
   },
   "file_extension": ".py",
   "mimetype": "text/x-python",
   "name": "python",
   "nbconvert_exporter": "python",
   "pygments_lexer": "ipython3",
   "version": "3.5.6"
  }
 },
 "nbformat": 4,
 "nbformat_minor": 5
}
