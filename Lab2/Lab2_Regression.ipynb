{
 "cells": [
  {
   "cell_type": "code",
   "execution_count": 2,
   "id": "203ecd36",
   "metadata": {},
   "outputs": [],
   "source": [
    "import pandas as pd\n",
    "import numpy as np\n",
    "import matplotlib.pyplot as plt\n",
    "\n",
    "from sklearn.model_selection import train_test_split\n",
    "from sklearn.preprocessing import StandardScaler\n",
    "\n",
    "piazza_data = pd.read_csv(\"./labData.csv\")"
   ]
  },
  {
   "cell_type": "code",
   "execution_count": 3,
   "id": "ba2c4d9f",
   "metadata": {},
   "outputs": [
    {
     "data": {
      "text/html": [
       "<div>\n",
       "<style scoped>\n",
       "    .dataframe tbody tr th:only-of-type {\n",
       "        vertical-align: middle;\n",
       "    }\n",
       "\n",
       "    .dataframe tbody tr th {\n",
       "        vertical-align: top;\n",
       "    }\n",
       "\n",
       "    .dataframe thead th {\n",
       "        text-align: right;\n",
       "    }\n",
       "</style>\n",
       "<table border=\"1\" class=\"dataframe\">\n",
       "  <thead>\n",
       "    <tr style=\"text-align: right;\">\n",
       "      <th></th>\n",
       "      <th>days online</th>\n",
       "      <th>views</th>\n",
       "      <th>contributions</th>\n",
       "      <th>questions</th>\n",
       "      <th>answers</th>\n",
       "      <th>Grade</th>\n",
       "    </tr>\n",
       "  </thead>\n",
       "  <tbody>\n",
       "    <tr>\n",
       "      <th>0</th>\n",
       "      <td>6</td>\n",
       "      <td>24</td>\n",
       "      <td>1</td>\n",
       "      <td>0</td>\n",
       "      <td>1</td>\n",
       "      <td>84.450059</td>\n",
       "    </tr>\n",
       "    <tr>\n",
       "      <th>1</th>\n",
       "      <td>68</td>\n",
       "      <td>136</td>\n",
       "      <td>30</td>\n",
       "      <td>0</td>\n",
       "      <td>17</td>\n",
       "      <td>94.660635</td>\n",
       "    </tr>\n",
       "    <tr>\n",
       "      <th>2</th>\n",
       "      <td>54</td>\n",
       "      <td>122</td>\n",
       "      <td>2</td>\n",
       "      <td>0</td>\n",
       "      <td>0</td>\n",
       "      <td>80.707490</td>\n",
       "    </tr>\n",
       "    <tr>\n",
       "      <th>3</th>\n",
       "      <td>0</td>\n",
       "      <td>0</td>\n",
       "      <td>0</td>\n",
       "      <td>0</td>\n",
       "      <td>0</td>\n",
       "      <td>79.756286</td>\n",
       "    </tr>\n",
       "    <tr>\n",
       "      <th>4</th>\n",
       "      <td>41</td>\n",
       "      <td>123</td>\n",
       "      <td>1</td>\n",
       "      <td>1</td>\n",
       "      <td>0</td>\n",
       "      <td>87.501975</td>\n",
       "    </tr>\n",
       "    <tr>\n",
       "      <th>5</th>\n",
       "      <td>46</td>\n",
       "      <td>91</td>\n",
       "      <td>12</td>\n",
       "      <td>7</td>\n",
       "      <td>0</td>\n",
       "      <td>94.526755</td>\n",
       "    </tr>\n",
       "    <tr>\n",
       "      <th>6</th>\n",
       "      <td>29</td>\n",
       "      <td>87</td>\n",
       "      <td>11</td>\n",
       "      <td>2</td>\n",
       "      <td>5</td>\n",
       "      <td>83.817988</td>\n",
       "    </tr>\n",
       "    <tr>\n",
       "      <th>7</th>\n",
       "      <td>32</td>\n",
       "      <td>123</td>\n",
       "      <td>17</td>\n",
       "      <td>11</td>\n",
       "      <td>1</td>\n",
       "      <td>90.846254</td>\n",
       "    </tr>\n",
       "    <tr>\n",
       "      <th>8</th>\n",
       "      <td>98</td>\n",
       "      <td>127</td>\n",
       "      <td>50</td>\n",
       "      <td>10</td>\n",
       "      <td>18</td>\n",
       "      <td>98.671115</td>\n",
       "    </tr>\n",
       "    <tr>\n",
       "      <th>9</th>\n",
       "      <td>6</td>\n",
       "      <td>31</td>\n",
       "      <td>1</td>\n",
       "      <td>1</td>\n",
       "      <td>0</td>\n",
       "      <td>87.508948</td>\n",
       "    </tr>\n",
       "    <tr>\n",
       "      <th>10</th>\n",
       "      <td>20</td>\n",
       "      <td>60</td>\n",
       "      <td>0</td>\n",
       "      <td>0</td>\n",
       "      <td>0</td>\n",
       "      <td>84.649792</td>\n",
       "    </tr>\n",
       "    <tr>\n",
       "      <th>11</th>\n",
       "      <td>0</td>\n",
       "      <td>0</td>\n",
       "      <td>0</td>\n",
       "      <td>0</td>\n",
       "      <td>0</td>\n",
       "      <td>65.808130</td>\n",
       "    </tr>\n",
       "    <tr>\n",
       "      <th>12</th>\n",
       "      <td>0</td>\n",
       "      <td>0</td>\n",
       "      <td>0</td>\n",
       "      <td>0</td>\n",
       "      <td>0</td>\n",
       "      <td>77.433814</td>\n",
       "    </tr>\n",
       "    <tr>\n",
       "      <th>13</th>\n",
       "      <td>59</td>\n",
       "      <td>111</td>\n",
       "      <td>7</td>\n",
       "      <td>5</td>\n",
       "      <td>1</td>\n",
       "      <td>98.569538</td>\n",
       "    </tr>\n",
       "    <tr>\n",
       "      <th>14</th>\n",
       "      <td>22</td>\n",
       "      <td>57</td>\n",
       "      <td>9</td>\n",
       "      <td>4</td>\n",
       "      <td>1</td>\n",
       "      <td>81.989809</td>\n",
       "    </tr>\n",
       "    <tr>\n",
       "      <th>15</th>\n",
       "      <td>27</td>\n",
       "      <td>81</td>\n",
       "      <td>26</td>\n",
       "      <td>9</td>\n",
       "      <td>2</td>\n",
       "      <td>84.400562</td>\n",
       "    </tr>\n",
       "    <tr>\n",
       "      <th>16</th>\n",
       "      <td>46</td>\n",
       "      <td>124</td>\n",
       "      <td>3</td>\n",
       "      <td>3</td>\n",
       "      <td>0</td>\n",
       "      <td>79.610896</td>\n",
       "    </tr>\n",
       "    <tr>\n",
       "      <th>17</th>\n",
       "      <td>56</td>\n",
       "      <td>109</td>\n",
       "      <td>0</td>\n",
       "      <td>0</td>\n",
       "      <td>0</td>\n",
       "      <td>88.551207</td>\n",
       "    </tr>\n",
       "    <tr>\n",
       "      <th>18</th>\n",
       "      <td>9</td>\n",
       "      <td>40</td>\n",
       "      <td>0</td>\n",
       "      <td>0</td>\n",
       "      <td>0</td>\n",
       "      <td>69.972112</td>\n",
       "    </tr>\n",
       "    <tr>\n",
       "      <th>19</th>\n",
       "      <td>17</td>\n",
       "      <td>43</td>\n",
       "      <td>2</td>\n",
       "      <td>2</td>\n",
       "      <td>0</td>\n",
       "      <td>76.184331</td>\n",
       "    </tr>\n",
       "    <tr>\n",
       "      <th>20</th>\n",
       "      <td>17</td>\n",
       "      <td>116</td>\n",
       "      <td>0</td>\n",
       "      <td>0</td>\n",
       "      <td>0</td>\n",
       "      <td>79.879624</td>\n",
       "    </tr>\n",
       "    <tr>\n",
       "      <th>21</th>\n",
       "      <td>24</td>\n",
       "      <td>122</td>\n",
       "      <td>2</td>\n",
       "      <td>0</td>\n",
       "      <td>1</td>\n",
       "      <td>82.318783</td>\n",
       "    </tr>\n",
       "    <tr>\n",
       "      <th>22</th>\n",
       "      <td>30</td>\n",
       "      <td>63</td>\n",
       "      <td>4</td>\n",
       "      <td>2</td>\n",
       "      <td>2</td>\n",
       "      <td>86.593060</td>\n",
       "    </tr>\n",
       "    <tr>\n",
       "      <th>23</th>\n",
       "      <td>66</td>\n",
       "      <td>129</td>\n",
       "      <td>9</td>\n",
       "      <td>1</td>\n",
       "      <td>5</td>\n",
       "      <td>90.082458</td>\n",
       "    </tr>\n",
       "    <tr>\n",
       "      <th>24</th>\n",
       "      <td>66</td>\n",
       "      <td>125</td>\n",
       "      <td>15</td>\n",
       "      <td>3</td>\n",
       "      <td>4</td>\n",
       "      <td>85.362000</td>\n",
       "    </tr>\n",
       "    <tr>\n",
       "      <th>25</th>\n",
       "      <td>73</td>\n",
       "      <td>125</td>\n",
       "      <td>17</td>\n",
       "      <td>6</td>\n",
       "      <td>4</td>\n",
       "      <td>103.316374</td>\n",
       "    </tr>\n",
       "    <tr>\n",
       "      <th>26</th>\n",
       "      <td>26</td>\n",
       "      <td>125</td>\n",
       "      <td>2</td>\n",
       "      <td>1</td>\n",
       "      <td>0</td>\n",
       "      <td>95.389438</td>\n",
       "    </tr>\n",
       "    <tr>\n",
       "      <th>27</th>\n",
       "      <td>15</td>\n",
       "      <td>65</td>\n",
       "      <td>11</td>\n",
       "      <td>3</td>\n",
       "      <td>3</td>\n",
       "      <td>93.595774</td>\n",
       "    </tr>\n",
       "    <tr>\n",
       "      <th>28</th>\n",
       "      <td>28</td>\n",
       "      <td>93</td>\n",
       "      <td>4</td>\n",
       "      <td>3</td>\n",
       "      <td>0</td>\n",
       "      <td>76.148868</td>\n",
       "    </tr>\n",
       "    <tr>\n",
       "      <th>29</th>\n",
       "      <td>40</td>\n",
       "      <td>59</td>\n",
       "      <td>9</td>\n",
       "      <td>2</td>\n",
       "      <td>2</td>\n",
       "      <td>80.962869</td>\n",
       "    </tr>\n",
       "    <tr>\n",
       "      <th>30</th>\n",
       "      <td>42</td>\n",
       "      <td>120</td>\n",
       "      <td>44</td>\n",
       "      <td>19</td>\n",
       "      <td>7</td>\n",
       "      <td>97.194376</td>\n",
       "    </tr>\n",
       "  </tbody>\n",
       "</table>\n",
       "</div>"
      ],
      "text/plain": [
       "    days online  views  contributions  questions  answers       Grade\n",
       "0             6     24              1          0        1   84.450059\n",
       "1            68    136             30          0       17   94.660635\n",
       "2            54    122              2          0        0   80.707490\n",
       "3             0      0              0          0        0   79.756286\n",
       "4            41    123              1          1        0   87.501975\n",
       "5            46     91             12          7        0   94.526755\n",
       "6            29     87             11          2        5   83.817988\n",
       "7            32    123             17         11        1   90.846254\n",
       "8            98    127             50         10       18   98.671115\n",
       "9             6     31              1          1        0   87.508948\n",
       "10           20     60              0          0        0   84.649792\n",
       "11            0      0              0          0        0   65.808130\n",
       "12            0      0              0          0        0   77.433814\n",
       "13           59    111              7          5        1   98.569538\n",
       "14           22     57              9          4        1   81.989809\n",
       "15           27     81             26          9        2   84.400562\n",
       "16           46    124              3          3        0   79.610896\n",
       "17           56    109              0          0        0   88.551207\n",
       "18            9     40              0          0        0   69.972112\n",
       "19           17     43              2          2        0   76.184331\n",
       "20           17    116              0          0        0   79.879624\n",
       "21           24    122              2          0        1   82.318783\n",
       "22           30     63              4          2        2   86.593060\n",
       "23           66    129              9          1        5   90.082458\n",
       "24           66    125             15          3        4   85.362000\n",
       "25           73    125             17          6        4  103.316374\n",
       "26           26    125              2          1        0   95.389438\n",
       "27           15     65             11          3        3   93.595774\n",
       "28           28     93              4          3        0   76.148868\n",
       "29           40     59              9          2        2   80.962869\n",
       "30           42    120             44         19        7   97.194376"
      ]
     },
     "execution_count": 3,
     "metadata": {},
     "output_type": "execute_result"
    }
   ],
   "source": [
    "piazza_data"
   ]
  },
  {
   "cell_type": "code",
   "execution_count": 4,
   "id": "2bd0c6dd",
   "metadata": {},
   "outputs": [],
   "source": [
    "x = piazza_data[[\"contributions\"]].values\n",
    "y = piazza_data[[\"Grade\"]].values"
   ]
  },
  {
   "cell_type": "code",
   "execution_count": 7,
   "id": "4fba7030",
   "metadata": {},
   "outputs": [],
   "source": [
    "x_train, x_test, y_train, y_test = train_test_split(x,y, test_size=0.25, random_state=1693)\n"
   ]
  },
  {
   "cell_type": "code",
   "execution_count": 8,
   "id": "3403663e",
   "metadata": {},
   "outputs": [],
   "source": [
    "from sklearn.linear_model import LinearRegression"
   ]
  },
  {
   "cell_type": "code",
   "execution_count": 9,
   "id": "fd30b801",
   "metadata": {},
   "outputs": [
    {
     "data": {
      "text/plain": [
       "LinearRegression(copy_X=True, fit_intercept=True, n_jobs=1, normalize=False)"
      ]
     },
     "execution_count": 9,
     "metadata": {},
     "output_type": "execute_result"
    }
   ],
   "source": [
    "regression = LinearRegression()\n",
    "regression.fit(x_train, y_train)"
   ]
  },
  {
   "cell_type": "code",
   "execution_count": 10,
   "id": "afdb9c9f",
   "metadata": {},
   "outputs": [
    {
     "data": {
      "text/plain": [
       "<function matplotlib.pyplot.show>"
      ]
     },
     "execution_count": 10,
     "metadata": {},
     "output_type": "execute_result"
    },
    {
     "data": {
      "image/png": "[encoded data removed]",
      "text/plain": [
       "<Figure size 432x288 with 1 Axes>"
      ]
     },
     "metadata": {
      "needs_background": "light"
     },
     "output_type": "display_data"
    }
   ],
   "source": [
    "plt.scatter(x_train, y_train)\n",
    "plt.show"
   ]
  },
  {
   "cell_type": "code",
   "execution_count": 12,
   "id": "df2971bb",
   "metadata": {},
   "outputs": [
    {
     "data": {
      "image/png": "[encoded data removed]",
      "text/plain": [
       "<Figure size 432x288 with 1 Axes>"
      ]
     },
     "metadata": {
      "needs_background": "light"
     },
     "output_type": "display_data"
    }
   ],
   "source": [
    "plt.scatter(x_train, y_train, color=\"black\")\n",
    "plt.plot(x_train, regression.predict(x_train), color=\"red\")\n",
    "plt.show()"
   ]
  },
  {
   "cell_type": "code",
   "execution_count": 14,
   "id": "4f1b2397",
   "metadata": {},
   "outputs": [
    {
     "data": {
      "image/png": "[encoded data removed]",
      "text/plain": [
       "<Figure size 432x288 with 1 Axes>"
      ]
     },
     "metadata": {
      "needs_background": "light"
     },
     "output_type": "display_data"
    }
   ],
   "source": [
    "plt.scatter(x_train, y_train, color=\"black\")\n",
    "plt.plot(x_train, regression.predict(x_train), color=\"red\")\n",
    "plt.title(\"Piazza Contributions and Grades (Training Data)\")\n",
    "plt.xlabel(\"Piazza Contributions\")\n",
    "plt.ylabel(\"Grade\")\n",
    "plt.show()"
   ]
  },
  {
   "cell_type": "code",
   "execution_count": 15,
   "id": "d1ff55e5",
   "metadata": {},
   "outputs": [],
   "source": [
    "y_predictions = regression.predict(x_test)\n"
   ]
  },
  {
   "cell_type": "code",
   "execution_count": 17,
   "id": "41aae82f",
   "metadata": {},
   "outputs": [
    {
     "data": {
      "text/plain": [
       "[array([[85.3619999 ],\n",
       "        [65.80813036],\n",
       "        [79.87962424],\n",
       "        [86.59306021],\n",
       "        [90.08245761],\n",
       "        [84.45005886],\n",
       "        [94.66063545],\n",
       "        [80.70749047]]), array([[88.42281244],\n",
       "        [83.19116839],\n",
       "        [83.19116839],\n",
       "        [84.58627347],\n",
       "        [86.33015482],\n",
       "        [83.53994466],\n",
       "        [93.6544565 ],\n",
       "        [83.88872093]])]"
      ]
     },
     "execution_count": 17,
     "metadata": {},
     "output_type": "execute_result"
    }
   ],
   "source": [
    "[y_test, y_predictions]"
   ]
  },
  {
   "cell_type": "code",
   "execution_count": 18,
   "id": "d1b42f2f",
   "metadata": {},
   "outputs": [
    {
     "data": {
      "image/png": "[encoded data removed]",
      "text/plain": [
       "<Figure size 432x288 with 1 Axes>"
      ]
     },
     "metadata": {
      "needs_background": "light"
     },
     "output_type": "display_data"
    }
   ],
   "source": [
    "plt.scatter(x_train, y_train, color=\"black\")\n",
    "plt.scatter(x_test, y_test, color=\"blue\")\n",
    "plt.plot(x_train, regression.predict(x_train), color=\"red\")\n",
    "plt.title(\"Piazza Contributions and Grades\")\n",
    "plt.xlabel(\"Piazza Contributions\")\n",
    "plt.ylabel(\"Grade\")\n",
    "plt.show()"
   ]
  },
  {
   "cell_type": "code",
   "execution_count": 19,
   "id": "55ba0462",
   "metadata": {},
   "outputs": [],
   "source": [
    "x = piazza_data[[\"contributions\", \"days online\", \"views\", \"questions\", \"answers\"]].values\n",
    "y = piazza_data[[\"Grade\"]].values"
   ]
  },
  {
   "cell_type": "code",
   "execution_count": 20,
   "id": "f8abdc25",
   "metadata": {},
   "outputs": [],
   "source": [
    "x_train, x_test, y_train, y_test = train_test_split(x, y, test_size=0.25, random_state=1693)"
   ]
  },
  {
   "cell_type": "code",
   "execution_count": 25,
   "id": "f47735c5",
   "metadata": {},
   "outputs": [
    {
     "data": {
      "text/plain": [
       "array([[ 0.38260227,  1.44308865,  1.04079641, -0.18904977,  0.52613405],\n",
       "       [-0.74558391, -1.43172574, -2.07942223, -0.84127146, -0.50374537],\n",
       "       [-0.74558391, -0.69124325,  0.81614067, -0.84127146, -0.50374537],\n",
       "       [-0.44473426, -0.12499193, -0.50683204, -0.406457  ,  0.01119434],\n",
       "       [-0.0686722 ,  1.44308865,  1.14064341, -0.62386423,  0.78360391],\n",
       "       [-0.6703715 , -1.17037898, -1.48034025, -0.84127146, -0.24627551],\n",
       "       [ 1.51078846,  1.53020423,  1.31537565, -0.84127146,  3.87324218],\n",
       "       [-0.59515909,  0.92039512,  0.96591116, -0.84127146, -0.50374537]])"
      ]
     },
     "execution_count": 25,
     "metadata": {},
     "output_type": "execute_result"
    }
   ],
   "source": [
    "from sklearn.preprocessing import StandardScaler\n",
    "\n",
    "scale_x = StandardScaler()\n",
    "x_train = scale_x.fit_transform(x_train)\n",
    "x_test = scale_x.transform(x_test)\n",
    "\n",
    "x_test"
   ]
  },
  {
   "cell_type": "code",
   "execution_count": 26,
   "id": "ba2e0df2",
   "metadata": {},
   "outputs": [
    {
     "data": {
      "text/plain": [
       "LinearRegression(copy_X=True, fit_intercept=True, n_jobs=1, normalize=False)"
      ]
     },
     "execution_count": 26,
     "metadata": {},
     "output_type": "execute_result"
    }
   ],
   "source": [
    "multiple_regression = LinearRegression()\n",
    "multiple_regression.fit(x_train, y_train)"
   ]
  },
  {
   "cell_type": "code",
   "execution_count": 27,
   "id": "d7b02de8",
   "metadata": {},
   "outputs": [],
   "source": [
    "y_predictions = multiple_regression.predict(x_test)"
   ]
  },
  {
   "cell_type": "code",
   "execution_count": 28,
   "id": "da4bb0e1",
   "metadata": {},
   "outputs": [
    {
     "data": {
      "text/plain": [
       "[array([[85.3619999 ],\n",
       "        [65.80813036],\n",
       "        [79.87962424],\n",
       "        [86.59306021],\n",
       "        [90.08245761],\n",
       "        [84.45005886],\n",
       "        [94.66063545],\n",
       "        [80.70749047]]), array([[92.00457807],\n",
       "        [76.83085344],\n",
       "        [83.28645335],\n",
       "        [85.13809364],\n",
       "        [92.00125779],\n",
       "        [78.70692855],\n",
       "        [91.79514715],\n",
       "        [88.66683579]])]"
      ]
     },
     "execution_count": 28,
     "metadata": {},
     "output_type": "execute_result"
    }
   ],
   "source": [
    "[y_test, y_predictions]"
   ]
  },
  {
   "cell_type": "code",
   "execution_count": 29,
   "id": "a08f67ef",
   "metadata": {},
   "outputs": [],
   "source": [
    "from sklearn.preprocessing import PolynomialFeatures"
   ]
  },
  {
   "cell_type": "code",
   "execution_count": 44,
   "id": "ca34aa8f",
   "metadata": {},
   "outputs": [],
   "source": [
    "xpoly = piazza_data[[\"contributions\", \"days online\", \"views\", \"questions\", \"answers\"]].values\n",
    "ypoly = piazza_data[[\"Grade\"]].values"
   ]
  },
  {
   "cell_type": "code",
   "execution_count": 45,
   "id": "f16d3c7f",
   "metadata": {},
   "outputs": [],
   "source": [
    "poly_data = PolynomialFeatures(degree = 2)\n",
    "\n",
    "x_poly = poly_data.fit_transform(xpoly)"
   ]
  },
  {
   "cell_type": "code",
   "execution_count": 46,
   "id": "ce7a75bd",
   "metadata": {},
   "outputs": [],
   "source": [
    "x_train, x_test, y_train, y_test = train_test_split(x_poly, ypoly, test_size = 0.25, random_state = 1693)"
   ]
  },
  {
   "cell_type": "code",
   "execution_count": 34,
   "id": "dff6172d",
   "metadata": {},
   "outputs": [
    {
     "data": {
      "text/plain": [
       "array([[1.0000e+00, 1.0000e+00, 6.0000e+00, 2.4000e+01, 0.0000e+00,\n",
       "        1.0000e+00, 1.0000e+00, 6.0000e+00, 2.4000e+01, 0.0000e+00,\n",
       "        1.0000e+00, 3.6000e+01, 1.4400e+02, 0.0000e+00, 6.0000e+00,\n",
       "        5.7600e+02, 0.0000e+00, 2.4000e+01, 0.0000e+00, 0.0000e+00,\n",
       "        1.0000e+00],\n",
       "       [1.0000e+00, 3.0000e+01, 6.8000e+01, 1.3600e+02, 0.0000e+00,\n",
       "        1.7000e+01, 9.0000e+02, 2.0400e+03, 4.0800e+03, 0.0000e+00,\n",
       "        5.1000e+02, 4.6240e+03, 9.2480e+03, 0.0000e+00, 1.1560e+03,\n",
       "        1.8496e+04, 0.0000e+00, 2.3120e+03, 0.0000e+00, 0.0000e+00,\n",
       "        2.8900e+02],\n",
       "       [1.0000e+00, 2.0000e+00, 5.4000e+01, 1.2200e+02, 0.0000e+00,\n",
       "        0.0000e+00, 4.0000e+00, 1.0800e+02, 2.4400e+02, 0.0000e+00,\n",
       "        0.0000e+00, 2.9160e+03, 6.5880e+03, 0.0000e+00, 0.0000e+00,\n",
       "        1.4884e+04, 0.0000e+00, 0.0000e+00, 0.0000e+00, 0.0000e+00,\n",
       "        0.0000e+00],\n",
       "       [1.0000e+00, 0.0000e+00, 0.0000e+00, 0.0000e+00, 0.0000e+00,\n",
       "        0.0000e+00, 0.0000e+00, 0.0000e+00, 0.0000e+00, 0.0000e+00,\n",
       "        0.0000e+00, 0.0000e+00, 0.0000e+00, 0.0000e+00, 0.0000e+00,\n",
       "        0.0000e+00, 0.0000e+00, 0.0000e+00, 0.0000e+00, 0.0000e+00,\n",
       "        0.0000e+00],\n",
       "       [1.0000e+00, 1.0000e+00, 4.1000e+01, 1.2300e+02, 1.0000e+00,\n",
       "        0.0000e+00, 1.0000e+00, 4.1000e+01, 1.2300e+02, 1.0000e+00,\n",
       "        0.0000e+00, 1.6810e+03, 5.0430e+03, 4.1000e+01, 0.0000e+00,\n",
       "        1.5129e+04, 1.2300e+02, 0.0000e+00, 1.0000e+00, 0.0000e+00,\n",
       "        0.0000e+00],\n",
       "       [1.0000e+00, 1.2000e+01, 4.6000e+01, 9.1000e+01, 7.0000e+00,\n",
       "        0.0000e+00, 1.4400e+02, 5.5200e+02, 1.0920e+03, 8.4000e+01,\n",
       "        0.0000e+00, 2.1160e+03, 4.1860e+03, 3.2200e+02, 0.0000e+00,\n",
       "        8.2810e+03, 6.3700e+02, 0.0000e+00, 4.9000e+01, 0.0000e+00,\n",
       "        0.0000e+00],\n",
       "       [1.0000e+00, 1.1000e+01, 2.9000e+01, 8.7000e+01, 2.0000e+00,\n",
       "        5.0000e+00, 1.2100e+02, 3.1900e+02, 9.5700e+02, 2.2000e+01,\n",
       "        5.5000e+01, 8.4100e+02, 2.5230e+03, 5.8000e+01, 1.4500e+02,\n",
       "        7.5690e+03, 1.7400e+02, 4.3500e+02, 4.0000e+00, 1.0000e+01,\n",
       "        2.5000e+01],\n",
       "       [1.0000e+00, 1.7000e+01, 3.2000e+01, 1.2300e+02, 1.1000e+01,\n",
       "        1.0000e+00, 2.8900e+02, 5.4400e+02, 2.0910e+03, 1.8700e+02,\n",
       "        1.7000e+01, 1.0240e+03, 3.9360e+03, 3.5200e+02, 3.2000e+01,\n",
       "        1.5129e+04, 1.3530e+03, 1.2300e+02, 1.2100e+02, 1.1000e+01,\n",
       "        1.0000e+00],\n",
       "       [1.0000e+00, 5.0000e+01, 9.8000e+01, 1.2700e+02, 1.0000e+01,\n",
       "        1.8000e+01, 2.5000e+03, 4.9000e+03, 6.3500e+03, 5.0000e+02,\n",
       "        9.0000e+02, 9.6040e+03, 1.2446e+04, 9.8000e+02, 1.7640e+03,\n",
       "        1.6129e+04, 1.2700e+03, 2.2860e+03, 1.0000e+02, 1.8000e+02,\n",
       "        3.2400e+02],\n",
       "       [1.0000e+00, 1.0000e+00, 6.0000e+00, 3.1000e+01, 1.0000e+00,\n",
       "        0.0000e+00, 1.0000e+00, 6.0000e+00, 3.1000e+01, 1.0000e+00,\n",
       "        0.0000e+00, 3.6000e+01, 1.8600e+02, 6.0000e+00, 0.0000e+00,\n",
       "        9.6100e+02, 3.1000e+01, 0.0000e+00, 1.0000e+00, 0.0000e+00,\n",
       "        0.0000e+00],\n",
       "       [1.0000e+00, 0.0000e+00, 2.0000e+01, 6.0000e+01, 0.0000e+00,\n",
       "        0.0000e+00, 0.0000e+00, 0.0000e+00, 0.0000e+00, 0.0000e+00,\n",
       "        0.0000e+00, 4.0000e+02, 1.2000e+03, 0.0000e+00, 0.0000e+00,\n",
       "        3.6000e+03, 0.0000e+00, 0.0000e+00, 0.0000e+00, 0.0000e+00,\n",
       "        0.0000e+00],\n",
       "       [1.0000e+00, 0.0000e+00, 0.0000e+00, 0.0000e+00, 0.0000e+00,\n",
       "        0.0000e+00, 0.0000e+00, 0.0000e+00, 0.0000e+00, 0.0000e+00,\n",
       "        0.0000e+00, 0.0000e+00, 0.0000e+00, 0.0000e+00, 0.0000e+00,\n",
       "        0.0000e+00, 0.0000e+00, 0.0000e+00, 0.0000e+00, 0.0000e+00,\n",
       "        0.0000e+00],\n",
       "       [1.0000e+00, 0.0000e+00, 0.0000e+00, 0.0000e+00, 0.0000e+00,\n",
       "        0.0000e+00, 0.0000e+00, 0.0000e+00, 0.0000e+00, 0.0000e+00,\n",
       "        0.0000e+00, 0.0000e+00, 0.0000e+00, 0.0000e+00, 0.0000e+00,\n",
       "        0.0000e+00, 0.0000e+00, 0.0000e+00, 0.0000e+00, 0.0000e+00,\n",
       "        0.0000e+00],\n",
       "       [1.0000e+00, 7.0000e+00, 5.9000e+01, 1.1100e+02, 5.0000e+00,\n",
       "        1.0000e+00, 4.9000e+01, 4.1300e+02, 7.7700e+02, 3.5000e+01,\n",
       "        7.0000e+00, 3.4810e+03, 6.5490e+03, 2.9500e+02, 5.9000e+01,\n",
       "        1.2321e+04, 5.5500e+02, 1.1100e+02, 2.5000e+01, 5.0000e+00,\n",
       "        1.0000e+00],\n",
       "       [1.0000e+00, 9.0000e+00, 2.2000e+01, 5.7000e+01, 4.0000e+00,\n",
       "        1.0000e+00, 8.1000e+01, 1.9800e+02, 5.1300e+02, 3.6000e+01,\n",
       "        9.0000e+00, 4.8400e+02, 1.2540e+03, 8.8000e+01, 2.2000e+01,\n",
       "        3.2490e+03, 2.2800e+02, 5.7000e+01, 1.6000e+01, 4.0000e+00,\n",
       "        1.0000e+00],\n",
       "       [1.0000e+00, 2.6000e+01, 2.7000e+01, 8.1000e+01, 9.0000e+00,\n",
       "        2.0000e+00, 6.7600e+02, 7.0200e+02, 2.1060e+03, 2.3400e+02,\n",
       "        5.2000e+01, 7.2900e+02, 2.1870e+03, 2.4300e+02, 5.4000e+01,\n",
       "        6.5610e+03, 7.2900e+02, 1.6200e+02, 8.1000e+01, 1.8000e+01,\n",
       "        4.0000e+00],\n",
       "       [1.0000e+00, 3.0000e+00, 4.6000e+01, 1.2400e+02, 3.0000e+00,\n",
       "        0.0000e+00, 9.0000e+00, 1.3800e+02, 3.7200e+02, 9.0000e+00,\n",
       "        0.0000e+00, 2.1160e+03, 5.7040e+03, 1.3800e+02, 0.0000e+00,\n",
       "        1.5376e+04, 3.7200e+02, 0.0000e+00, 9.0000e+00, 0.0000e+00,\n",
       "        0.0000e+00],\n",
       "       [1.0000e+00, 0.0000e+00, 5.6000e+01, 1.0900e+02, 0.0000e+00,\n",
       "        0.0000e+00, 0.0000e+00, 0.0000e+00, 0.0000e+00, 0.0000e+00,\n",
       "        0.0000e+00, 3.1360e+03, 6.1040e+03, 0.0000e+00, 0.0000e+00,\n",
       "        1.1881e+04, 0.0000e+00, 0.0000e+00, 0.0000e+00, 0.0000e+00,\n",
       "        0.0000e+00],\n",
       "       [1.0000e+00, 0.0000e+00, 9.0000e+00, 4.0000e+01, 0.0000e+00,\n",
       "        0.0000e+00, 0.0000e+00, 0.0000e+00, 0.0000e+00, 0.0000e+00,\n",
       "        0.0000e+00, 8.1000e+01, 3.6000e+02, 0.0000e+00, 0.0000e+00,\n",
       "        1.6000e+03, 0.0000e+00, 0.0000e+00, 0.0000e+00, 0.0000e+00,\n",
       "        0.0000e+00],\n",
       "       [1.0000e+00, 2.0000e+00, 1.7000e+01, 4.3000e+01, 2.0000e+00,\n",
       "        0.0000e+00, 4.0000e+00, 3.4000e+01, 8.6000e+01, 4.0000e+00,\n",
       "        0.0000e+00, 2.8900e+02, 7.3100e+02, 3.4000e+01, 0.0000e+00,\n",
       "        1.8490e+03, 8.6000e+01, 0.0000e+00, 4.0000e+00, 0.0000e+00,\n",
       "        0.0000e+00],\n",
       "       [1.0000e+00, 0.0000e+00, 1.7000e+01, 1.1600e+02, 0.0000e+00,\n",
       "        0.0000e+00, 0.0000e+00, 0.0000e+00, 0.0000e+00, 0.0000e+00,\n",
       "        0.0000e+00, 2.8900e+02, 1.9720e+03, 0.0000e+00, 0.0000e+00,\n",
       "        1.3456e+04, 0.0000e+00, 0.0000e+00, 0.0000e+00, 0.0000e+00,\n",
       "        0.0000e+00],\n",
       "       [1.0000e+00, 2.0000e+00, 2.4000e+01, 1.2200e+02, 0.0000e+00,\n",
       "        1.0000e+00, 4.0000e+00, 4.8000e+01, 2.4400e+02, 0.0000e+00,\n",
       "        2.0000e+00, 5.7600e+02, 2.9280e+03, 0.0000e+00, 2.4000e+01,\n",
       "        1.4884e+04, 0.0000e+00, 1.2200e+02, 0.0000e+00, 0.0000e+00,\n",
       "        1.0000e+00],\n",
       "       [1.0000e+00, 4.0000e+00, 3.0000e+01, 6.3000e+01, 2.0000e+00,\n",
       "        2.0000e+00, 1.6000e+01, 1.2000e+02, 2.5200e+02, 8.0000e+00,\n",
       "        8.0000e+00, 9.0000e+02, 1.8900e+03, 6.0000e+01, 6.0000e+01,\n",
       "        3.9690e+03, 1.2600e+02, 1.2600e+02, 4.0000e+00, 4.0000e+00,\n",
       "        4.0000e+00],\n",
       "       [1.0000e+00, 9.0000e+00, 6.6000e+01, 1.2900e+02, 1.0000e+00,\n",
       "        5.0000e+00, 8.1000e+01, 5.9400e+02, 1.1610e+03, 9.0000e+00,\n",
       "        4.5000e+01, 4.3560e+03, 8.5140e+03, 6.6000e+01, 3.3000e+02,\n",
       "        1.6641e+04, 1.2900e+02, 6.4500e+02, 1.0000e+00, 5.0000e+00,\n",
       "        2.5000e+01],\n",
       "       [1.0000e+00, 1.5000e+01, 6.6000e+01, 1.2500e+02, 3.0000e+00,\n",
       "        4.0000e+00, 2.2500e+02, 9.9000e+02, 1.8750e+03, 4.5000e+01,\n",
       "        6.0000e+01, 4.3560e+03, 8.2500e+03, 1.9800e+02, 2.6400e+02,\n",
       "        1.5625e+04, 3.7500e+02, 5.0000e+02, 9.0000e+00, 1.2000e+01,\n",
       "        1.6000e+01],\n",
       "       [1.0000e+00, 1.7000e+01, 7.3000e+01, 1.2500e+02, 6.0000e+00,\n",
       "        4.0000e+00, 2.8900e+02, 1.2410e+03, 2.1250e+03, 1.0200e+02,\n",
       "        6.8000e+01, 5.3290e+03, 9.1250e+03, 4.3800e+02, 2.9200e+02,\n",
       "        1.5625e+04, 7.5000e+02, 5.0000e+02, 3.6000e+01, 2.4000e+01,\n",
       "        1.6000e+01],\n",
       "       [1.0000e+00, 2.0000e+00, 2.6000e+01, 1.2500e+02, 1.0000e+00,\n",
       "        0.0000e+00, 4.0000e+00, 5.2000e+01, 2.5000e+02, 2.0000e+00,\n",
       "        0.0000e+00, 6.7600e+02, 3.2500e+03, 2.6000e+01, 0.0000e+00,\n",
       "        1.5625e+04, 1.2500e+02, 0.0000e+00, 1.0000e+00, 0.0000e+00,\n",
       "        0.0000e+00],\n",
       "       [1.0000e+00, 1.1000e+01, 1.5000e+01, 6.5000e+01, 3.0000e+00,\n",
       "        3.0000e+00, 1.2100e+02, 1.6500e+02, 7.1500e+02, 3.3000e+01,\n",
       "        3.3000e+01, 2.2500e+02, 9.7500e+02, 4.5000e+01, 4.5000e+01,\n",
       "        4.2250e+03, 1.9500e+02, 1.9500e+02, 9.0000e+00, 9.0000e+00,\n",
       "        9.0000e+00],\n",
       "       [1.0000e+00, 4.0000e+00, 2.8000e+01, 9.3000e+01, 3.0000e+00,\n",
       "        0.0000e+00, 1.6000e+01, 1.1200e+02, 3.7200e+02, 1.2000e+01,\n",
       "        0.0000e+00, 7.8400e+02, 2.6040e+03, 8.4000e+01, 0.0000e+00,\n",
       "        8.6490e+03, 2.7900e+02, 0.0000e+00, 9.0000e+00, 0.0000e+00,\n",
       "        0.0000e+00],\n",
       "       [1.0000e+00, 9.0000e+00, 4.0000e+01, 5.9000e+01, 2.0000e+00,\n",
       "        2.0000e+00, 8.1000e+01, 3.6000e+02, 5.3100e+02, 1.8000e+01,\n",
       "        1.8000e+01, 1.6000e+03, 2.3600e+03, 8.0000e+01, 8.0000e+01,\n",
       "        3.4810e+03, 1.1800e+02, 1.1800e+02, 4.0000e+00, 4.0000e+00,\n",
       "        4.0000e+00],\n",
       "       [1.0000e+00, 4.4000e+01, 4.2000e+01, 1.2000e+02, 1.9000e+01,\n",
       "        7.0000e+00, 1.9360e+03, 1.8480e+03, 5.2800e+03, 8.3600e+02,\n",
       "        3.0800e+02, 1.7640e+03, 5.0400e+03, 7.9800e+02, 2.9400e+02,\n",
       "        1.4400e+04, 2.2800e+03, 8.4000e+02, 3.6100e+02, 1.3300e+02,\n",
       "        4.9000e+01]])"
      ]
     },
     "execution_count": 34,
     "metadata": {},
     "output_type": "execute_result"
    }
   ],
   "source": []
  },
  {
   "cell_type": "code",
   "execution_count": 47,
   "id": "fd1c4593",
   "metadata": {},
   "outputs": [
    {
     "data": {
      "text/plain": [
       "LinearRegression(copy_X=True, fit_intercept=True, n_jobs=1, normalize=False)"
      ]
     },
     "execution_count": 47,
     "metadata": {},
     "output_type": "execute_result"
    }
   ],
   "source": [
    "poly_reg = LinearRegression()\n",
    "poly_reg.fit(x_train, y_train)"
   ]
  },
  {
   "cell_type": "code",
   "execution_count": 48,
   "id": "ce352c73",
   "metadata": {},
   "outputs": [],
   "source": [
    "y_predictions = poly_reg.predict(x_test)"
   ]
  },
  {
   "cell_type": "code",
   "execution_count": 49,
   "id": "80e71b61",
   "metadata": {},
   "outputs": [
    {
     "data": {
      "text/plain": [
       "array([[129.99061299],\n",
       "       [ 78.49434438],\n",
       "       [ 79.54514783],\n",
       "       [100.30428982],\n",
       "       [ 39.96292796],\n",
       "       [ 97.39924577],\n",
       "       [-76.61352846],\n",
       "       [156.61096896]])"
      ]
     },
     "execution_count": 49,
     "metadata": {},
     "output_type": "execute_result"
    }
   ],
   "source": [
    "y_predictions"
   ]
  },
  {
   "cell_type": "code",
   "execution_count": 39,
   "id": "522081b7",
   "metadata": {},
   "outputs": [
    {
     "name": "stderr",
     "output_type": "stream",
     "text": [
      "/home/scott/anaconda3/envs/conda_ML/lib/python3.5/site-packages/sklearn/utils/validation.py:475: DataConversionWarning: Data with input dtype int64 was converted to float64 by StandardScaler.\n",
      "  warnings.warn(msg, DataConversionWarning)\n"
     ]
    }
   ],
   "source": [
    "x = piazza_data[[\"contributions\"]].values\n",
    "y = piazza_data[[\"Grade\"]].values\n",
    "\n",
    "x_train, x_test, y_train, y_test = train_test_split(x,y, test_size=0.25, random_state=1693)\n",
    "\n",
    "scale_x = StandardScaler()\n",
    "x_train = scale_x.fit_transform(x_train)\n",
    "x_test = scale_x.transform(x_test)"
   ]
  },
  {
   "cell_type": "code",
   "execution_count": 41,
   "id": "2c2e34aa",
   "metadata": {},
   "outputs": [
    {
     "data": {
      "text/plain": [
       "LinearRegression(copy_X=True, fit_intercept=True, n_jobs=1, normalize=False)"
      ]
     },
     "execution_count": 41,
     "metadata": {},
     "output_type": "execute_result"
    }
   ],
   "source": [
    "lin_reg = LinearRegression()\n",
    "lin_reg.fit(x_train, y_train)\n",
    "\n",
    "poly_data = PolynomialFeatures(degree =2)\n",
    "poly_reg = LinearRegression()\n",
    "poly_reg.fit(poly_data.fit_transform(x_train), y_train)"
   ]
  },
  {
   "cell_type": "code",
   "execution_count": 43,
   "id": "73be3ad0",
   "metadata": {},
   "outputs": [
    {
     "data": {
      "image/png": "[encoded data removed]",
      "text/plain": [
       "<Figure size 432x288 with 1 Axes>"
      ]
     },
     "metadata": {
      "needs_background": "light"
     },
     "output_type": "display_data"
    }
   ],
   "source": [
    "plt.scatter(x_test, y_test, color=\"black\", label = \"Truth\")\n",
    "plt.scatter(x_test, lin_reg.predict(x_test), color = \"green\", label=\"Linear\")\n",
    "plt.scatter(x_test, poly_reg.predict(poly_data.fit_transform(x_test)), color=\"blue\", label = \"Poly\")\n",
    "plt.xlabel(\"Piazza Contributions\")\n",
    "plt.ylabel(\"Grade\")\n",
    "plt.legend()\n",
    "plt.show()"
   ]
  },
  {
   "cell_type": "code",
   "execution_count": null,
   "id": "9a814508",
   "metadata": {},
   "outputs": [],
   "source": []
  }
 ],
 "metadata": {
  "kernelspec": {
   "display_name": "conda_ML",
   "language": "python",
   "name": "conda_ml"
  },
  "language_info": {
   "codemirror_mode": {
    "name": "ipython",
    "version": 3
   },
   "file_extension": ".py",
   "mimetype": "text/x-python",
   "name": "python",
   "nbconvert_exporter": "python",
   "pygments_lexer": "ipython3",
   "version": "3.5.6"
  }
 },
 "nbformat": 4,
 "nbformat_minor": 5
}
