{
 "cells": [
  {
   "cell_type": "code",
   "execution_count": 1,
   "id": "bafdd88b",
   "metadata": {},
   "outputs": [],
   "source": [
    "import pandas as pd\n",
    "import numpy as np\n",
    "import matplotlib.pyplot as plt\n",
    "\n",
    "students_math = pd.read_csv(\"./studentmat.csv\")\n",
    "students_port = pd.read_csv(\"./studentpor.csv\")"
   ]
  },
  {
   "cell_type": "code",
   "execution_count": 2,
   "id": "4629ade7",
   "metadata": {},
   "outputs": [
    {
     "data": {
      "text/plain": [
       "(395, 33)"
      ]
     },
     "execution_count": 2,
     "metadata": {},
     "output_type": "execute_result"
    }
   ],
   "source": [
    "#list will list all column titles\n",
    "#list(students_math)\n",
    "\n",
    "#.shape will give us number of rows, number of columns\n",
    "students_math.shape\n"
   ]
  },
  {
   "cell_type": "code",
   "execution_count": 3,
   "id": "cf85bf8f",
   "metadata": {},
   "outputs": [],
   "source": [
    "#put both data frames in a single list\n",
    "all_students_rows = [students_math, students_port]\n",
    "\n",
    "#then concatenate the lists\n",
    "all_students = pd.concat(all_students_rows, ignore_index=True)"
   ]
  },
  {
   "cell_type": "code",
   "execution_count": 4,
   "id": "0242bf78",
   "metadata": {},
   "outputs": [
    {
     "data": {
      "text/plain": [
       "(1044, 33)"
      ]
     },
     "execution_count": 4,
     "metadata": {},
     "output_type": "execute_result"
    }
   ],
   "source": [
    "all_students.shape"
   ]
  },
  {
   "cell_type": "code",
   "execution_count": 5,
   "id": "01837d7e",
   "metadata": {},
   "outputs": [],
   "source": [
    "#using an educated guess, lets select some of the variables from the full list\n",
    "x= all_students[[\"age\", \"address\", \"traveltime\", \"failures\", \"higher\", \n",
    "                 \"internet\", \"romantic\", \"famrel\", \"freetime\", \"goout\", \"absences\"]].values\n",
    "\n",
    "#import a label encoder to handle string entries in the data frame\n",
    "from sklearn.preprocessing import LabelEncoder\n",
    "discreteCoder_x = LabelEncoder()"
   ]
  },
  {
   "cell_type": "code",
   "execution_count": 6,
   "id": "2a63da22",
   "metadata": {},
   "outputs": [],
   "source": [
    "\n",
    "x[:,1] = discreteCoder_x.fit_transform(x[:,1])\n",
    "#this means for just column one (:1) not first column (column zero)...\n",
    "#use the discreteCoder, fit and transform that data and return it to that column one position\n",
    "\n",
    "#we need to do the same process for the other non-numeric values in the data\n",
    "x[:,4] = discreteCoder_x.fit_transform(x[:,4])\n",
    "x[:,5] = discreteCoder_x.fit_transform(x[:,5])\n",
    "x[:,6] = discreteCoder_x.fit_transform(x[:,6])"
   ]
  },
  {
   "cell_type": "code",
   "execution_count": 7,
   "id": "32fff583",
   "metadata": {},
   "outputs": [],
   "source": [
    "from sklearn.model_selection import train_test_split\n",
    "from sklearn.preprocessing import StandardScaler\n",
    "\n",
    "#split out the predictive variable\n",
    "y = all_students[[\"Walc\"]].values "
   ]
  },
  {
   "cell_type": "code",
   "execution_count": 8,
   "id": "7c258cc3",
   "metadata": {},
   "outputs": [],
   "source": [
    "x_train, x_test, y_train, y_test = train_test_split(x,y, test_size=0.25, random_state=1693)"
   ]
  },
  {
   "cell_type": "code",
   "execution_count": 9,
   "id": "f9697cdc",
   "metadata": {},
   "outputs": [
    {
     "name": "stderr",
     "output_type": "stream",
     "text": [
      "/home/scott/anaconda3/envs/conda_ML/lib/python3.5/site-packages/sklearn/utils/validation.py:475: DataConversionWarning: Data with input dtype object was converted to float64 by StandardScaler.\n",
      "  warnings.warn(msg, DataConversionWarning)\n"
     ]
    }
   ],
   "source": [
    "scale_x = StandardScaler()\n",
    "x_train = scale_x.fit_transform(x_train)\n",
    "x_test = scale_x.transform(x_test)"
   ]
  },
  {
   "cell_type": "code",
   "execution_count": 10,
   "id": "4989e820",
   "metadata": {},
   "outputs": [],
   "source": [
    "from sklearn.svm import SVR"
   ]
  },
  {
   "cell_type": "code",
   "execution_count": 11,
   "id": "9400b9b8",
   "metadata": {},
   "outputs": [
    {
     "name": "stderr",
     "output_type": "stream",
     "text": [
      "/home/scott/anaconda3/envs/conda_ML/lib/python3.5/site-packages/sklearn/utils/validation.py:578: DataConversionWarning: A column-vector y was passed when a 1d array was expected. Please change the shape of y to (n_samples, ), for example using ravel().\n",
      "  y = column_or_1d(y, warn=True)\n"
     ]
    },
    {
     "data": {
      "text/plain": [
       "SVR(C=1.0, cache_size=200, coef0=0.0, degree=3, epsilon=1.0, gamma='auto',\n",
       "  kernel='linear', max_iter=-1, shrinking=True, tol=0.001, verbose=False)"
      ]
     },
     "execution_count": 11,
     "metadata": {},
     "output_type": "execute_result"
    }
   ],
   "source": [
    "#for a svr we have to pick to options, shape...kernal, and error to ignore...epsilon\n",
    "svr_regression = SVR(kernel = \"linear\", epsilon = 1.0)\n",
    "svr_regression.fit(x_train, y_train)"
   ]
  },
  {
   "cell_type": "code",
   "execution_count": 12,
   "id": "f7809d3e",
   "metadata": {},
   "outputs": [],
   "source": [
    "#We are going to create a hypothetical student to compare our model against\n",
    "\n",
    "#Student A\n",
    "#Age 18\n",
    "#Address: Urban (label encoded as 1)\n",
    "#Travel Time: 3 (30 minutes to 1 hour)\n",
    "#Failures: 3\n",
    "#Desire for Higher Ed: No (0)\n",
    "#Internet Access: No (0)\n",
    "#Romantic Relationship: Yes (1)\n",
    "#Relationship with Family: OK (2 out of 5)\n",
    "#Freetime: A lot (5 out of 5)\n",
    "#Going Out: A bit (2 out of 5)\n",
    "#Absences: 5\n",
    "\n",
    "new_studentA = [[18, 1, 3, 3, 0, 0, 1, 2, 5, 2, 5]]"
   ]
  },
  {
   "cell_type": "code",
   "execution_count": 13,
   "id": "dd98e235",
   "metadata": {},
   "outputs": [],
   "source": [
    "#we need to transform the new student data in the same manner as we scaled the training data\n",
    "new_student_scaledA = scale_x.transform(new_studentA)\n",
    "studentA_prediction = svr_regression.predict(new_student_scaledA)"
   ]
  },
  {
   "cell_type": "code",
   "execution_count": 14,
   "id": "45b01e25",
   "metadata": {},
   "outputs": [
    {
     "data": {
      "text/plain": [
       "array([2.76152033])"
      ]
     },
     "execution_count": 14,
     "metadata": {},
     "output_type": "execute_result"
    }
   ],
   "source": [
    "#we can see what our model predicts for this test student\n",
    "studentA_prediction"
   ]
  },
  {
   "cell_type": "code",
   "execution_count": 15,
   "id": "9e15663e",
   "metadata": {},
   "outputs": [
    {
     "name": "stdout",
     "output_type": "stream",
     "text": [
      "First new student (A):[2.76152033]\n"
     ]
    }
   ],
   "source": [
    "print(\"First new student (A):\" + str(studentA_prediction))"
   ]
  },
  {
   "cell_type": "code",
   "execution_count": 16,
   "id": "d4b02305",
   "metadata": {},
   "outputs": [
    {
     "name": "stdout",
     "output_type": "stream",
     "text": [
      "First new student (B):[2.31851134]\n"
     ]
    }
   ],
   "source": [
    "#Student B\n",
    "#Age 18\n",
    "#Address: Rural (label encoded as 0)\n",
    "#Travel Time: 3 (30 minutes to 1 hour)\n",
    "#Failures: 3\n",
    "#Desire for Hiegher Ed: No (0)\n",
    "#Internet Access: No (0)\n",
    "#Romantic Relationship: Yes (1)\n",
    "#Relationship with Family: OK (2 out of 5)\n",
    "#Freetime: very little (1 out of 5)\n",
    "#Going Out: very little (1 out of 5)\n",
    "#Absences: 5\n",
    "new_studentB = [[18, 0, 3, 3, 0, 0, 1, 2, 1, 1, 5]]\n",
    "new_student_scaledB = scale_x.transform(new_studentB)\n",
    "studentB_prediction = svr_regression.predict(new_student_scaledB)\n",
    "print(\"First new student (B):\" + str(studentB_prediction))"
   ]
  },
  {
   "cell_type": "code",
   "execution_count": 17,
   "id": "a56e9ce5",
   "metadata": {},
   "outputs": [],
   "source": [
    "from sklearn import tree"
   ]
  },
  {
   "cell_type": "code",
   "execution_count": 18,
   "id": "46a56dc2",
   "metadata": {},
   "outputs": [
    {
     "data": {
      "text/plain": [
       "DecisionTreeRegressor(criterion='mse', max_depth=3, max_features=None,\n",
       "           max_leaf_nodes=None, min_impurity_decrease=0.0,\n",
       "           min_impurity_split=None, min_samples_leaf=1,\n",
       "           min_samples_split=2, min_weight_fraction_leaf=0.0,\n",
       "           presort=False, random_state=1693, splitter='best')"
      ]
     },
     "execution_count": 18,
     "metadata": {},
     "output_type": "execute_result"
    }
   ],
   "source": [
    "DT_regression = tree.DecisionTreeRegressor(random_state = 1693, max_depth = 3)\n",
    "DT_regression.fit(x_train, y_train)"
   ]
  },
  {
   "cell_type": "code",
   "execution_count": 19,
   "id": "eba7650b",
   "metadata": {},
   "outputs": [],
   "source": [
    "#visualize the tree\n",
    "tree.export_graphviz(DT_regression, out_file=\"tree.dot\", feature_names=[\"age\", \"address\", \"traveltime\", \n",
    "              \"failures\", \"higher\", \"internet\", \"romantic\", \"famrel\", \"freetime\", \"goout\", \"absences\"])\n",
    "\n",
    "#http://dreampuf.github.io/GraphvizOnline/"
   ]
  },
  {
   "cell_type": "code",
   "execution_count": 20,
   "id": "7acdd323",
   "metadata": {},
   "outputs": [
    {
     "name": "stdout",
     "output_type": "stream",
     "text": [
      "First new student:[1.68644068]\n"
     ]
    }
   ],
   "source": [
    "studentA_prediction_RT = DT_regression.predict(new_student_scaledA)\n",
    "print(\"First new student:\"+ str(studentA_prediction_RT))"
   ]
  },
  {
   "cell_type": "code",
   "execution_count": 21,
   "id": "858232d4",
   "metadata": {},
   "outputs": [
    {
     "name": "stdout",
     "output_type": "stream",
     "text": [
      "Second new student:[1.68644068]\n"
     ]
    }
   ],
   "source": [
    "studentB_prediction_RT = DT_regression.predict(new_student_scaledB)\n",
    "print(\"Second new student:\"+ str(studentB_prediction_RT))"
   ]
  },
  {
   "cell_type": "code",
   "execution_count": 22,
   "id": "8bf7b658",
   "metadata": {},
   "outputs": [
    {
     "name": "stderr",
     "output_type": "stream",
     "text": [
      "/home/scott/anaconda3/envs/conda_ML/lib/python3.5/site-packages/ipykernel_launcher.py:5: DataConversionWarning: A column-vector y was passed when a 1d array was expected. Please change the shape of y to (n_samples,), for example using ravel().\n",
      "  \"\"\"\n"
     ]
    },
    {
     "data": {
      "text/plain": [
       "RandomForestRegressor(bootstrap=True, criterion='mse', max_depth=None,\n",
       "           max_features='auto', max_leaf_nodes=None,\n",
       "           min_impurity_decrease=0.0, min_impurity_split=None,\n",
       "           min_samples_leaf=1, min_samples_split=2,\n",
       "           min_weight_fraction_leaf=0.0, n_estimators=100, n_jobs=1,\n",
       "           oob_score=False, random_state=1693, verbose=0, warm_start=False)"
      ]
     },
     "execution_count": 22,
     "metadata": {},
     "output_type": "execute_result"
    }
   ],
   "source": [
    "from sklearn.ensemble import RandomForestRegressor\n",
    "\n",
    "#with forests, you have to specifiy how many trees...n_estimators\n",
    "RF_regression = RandomForestRegressor(n_estimators = 100, random_state=1693)\n",
    "RF_regression.fit(x_train, y_train)"
   ]
  },
  {
   "cell_type": "code",
   "execution_count": 23,
   "id": "c62f437d",
   "metadata": {},
   "outputs": [
    {
     "name": "stdout",
     "output_type": "stream",
     "text": [
      "First new student:[1.89]\n"
     ]
    }
   ],
   "source": [
    "studentA_prediction_RF = RF_regression.predict(new_student_scaledA)\n",
    "print(\"First new student:\" + str(studentA_prediction_RF))"
   ]
  },
  {
   "cell_type": "code",
   "execution_count": 24,
   "id": "06c8139a",
   "metadata": {},
   "outputs": [
    {
     "name": "stdout",
     "output_type": "stream",
     "text": [
      "Second new student:[1.45]\n"
     ]
    }
   ],
   "source": [
    "studentB_prediction_RF = RF_regression.predict(new_student_scaledB)\n",
    "print(\"Second new student:\" + str(studentB_prediction_RF))"
   ]
  },
  {
   "cell_type": "code",
   "execution_count": 25,
   "id": "6d0cf5c8",
   "metadata": {},
   "outputs": [
    {
     "data": {
      "text/plain": [
       "0.8569979778629203"
      ]
     },
     "execution_count": 25,
     "metadata": {},
     "output_type": "execute_result"
    }
   ],
   "source": [
    "from sklearn.metrics import mean_absolute_error\n",
    "\n",
    "#find the mean error (difference) between the true y (y_test), and our forest prediction\n",
    "rf_MAD = mean_absolute_error(y_test, RF_regression.predict(x_test))\n",
    "\n",
    "#we can look at the differene between our forest and the truth...in this case we were off\n",
    "#by 0.85699\n",
    "rf_MAD"
   ]
  },
  {
   "cell_type": "code",
   "execution_count": 26,
   "id": "c0e16f35",
   "metadata": {},
   "outputs": [],
   "source": [
    "#Lets look at the other models\n",
    "RT_MAD = mean_absolute_error(y_test, DT_regression.predict(x_test))\n",
    "SVR_MAD = mean_absolute_error(y_test, svr_regression.predict(x_test))"
   ]
  },
  {
   "cell_type": "code",
   "execution_count": 27,
   "id": "dea3db71",
   "metadata": {},
   "outputs": [
    {
     "name": "stdout",
     "output_type": "stream",
     "text": [
      "Random Forest MAD: 0.8569979778629203\n",
      "Regression Tree MAD: 0.9637573254432173\n",
      "Support Vector Regression MAD: 0.9614216792246265\n"
     ]
    }
   ],
   "source": [
    "print(\"Random Forest MAD: \" + str(rf_MAD))\n",
    "print(\"Regression Tree MAD: \" + str(RT_MAD))\n",
    "print(\"Support Vector Regression MAD: \" + str(SVR_MAD))"
   ]
  },
  {
   "cell_type": "code",
   "execution_count": 28,
   "id": "3e7b8156",
   "metadata": {},
   "outputs": [],
   "source": [
    "#we see that Random Forest has a relative lower error than the other models"
   ]
  },
  {
   "cell_type": "code",
   "execution_count": 31,
   "id": "bb5195aa",
   "metadata": {},
   "outputs": [
    {
     "name": "stdout",
     "output_type": "stream",
     "text": [
      "Third (lab) new student:[1.77]\n"
     ]
    }
   ],
   "source": [
    "#Lab questions\n",
    "#Student C\n",
    "#Age 20\n",
    "#Address: Urban (label encoded as 1)\n",
    "#Travel Time: 3 (30 minutes to 1 hour)\n",
    "#Failures: 1\n",
    "#Desire for Higher Ed: No (0)\n",
    "#Internet Access: Yes (1)\n",
    "#Romantic Relationship: Yes (1)\n",
    "#Relationship with Family: OK (2 out of 5)\n",
    "#Freetime: a little (3 out of 5)\n",
    "#Going Out: a bit (2 out of 5)\n",
    "#Absences: 5\n",
    "\n",
    "new_studentC = [[20, 1, 3, 1, 0, 1, 1, 2, 3, 2, 5]]\n",
    "new_student_scaledC = scale_x.transform(new_studentC)\n",
    "studentC_prediction_RF = RF_regression.predict(new_student_scaledC)\n",
    "print(\"Third (lab RF) new student:\"+ str(studentC_prediction_RF))\n",
    "\n"
   ]
  },
  {
   "cell_type": "code",
   "execution_count": 32,
   "id": "c7bd97f0",
   "metadata": {},
   "outputs": [
    {
     "name": "stdout",
     "output_type": "stream",
     "text": [
      "Fourth (lab SVR) new student:[2.50416303]\n"
     ]
    }
   ],
   "source": [
    "#Student D\n",
    "#Age 20\n",
    "#Address: Urban (label encoded as 1)\n",
    "#Travel Time: 3 (30 minutes to 1 hour)\n",
    "#Failures: 1\n",
    "#Desire for Higher Ed: No (0)\n",
    "#Internet Access: Yes (1)\n",
    "#Romantic Relationship: Yes (1)\n",
    "#Relationship with Family: OK (2 out of 5)\n",
    "#Freetime: a little (3 out of 5)\n",
    "#Going Out: a bit (2 out of 5)\n",
    "#Absences: 5\n",
    "\n",
    "new_studentD = [[20, 1, 3, 1, 0, 1, 1, 2, 3, 2, 5]]\n",
    "new_student_scaledD = scale_x.transform(new_studentD)\n",
    "studentD_prediction_SVR = svr_regression.predict(new_student_scaledD)\n",
    "print(\"Fourth (lab SVR) new student:\"+ str(studentD_prediction_SVR))"
   ]
  },
  {
   "cell_type": "code",
   "execution_count": null,
   "id": "dea88b4d",
   "metadata": {},
   "outputs": [],
   "source": []
  }
 ],
 "metadata": {
  "kernelspec": {
   "display_name": "conda_ML",
   "language": "python",
   "name": "conda_ml"
  },
  "language_info": {
   "codemirror_mode": {
    "name": "ipython",
    "version": 3
   },
   "file_extension": ".py",
   "mimetype": "text/x-python",
   "name": "python",
   "nbconvert_exporter": "python",
   "pygments_lexer": "ipython3",
   "version": "3.5.6"
  }
 },
 "nbformat": 4,
 "nbformat_minor": 5
}
