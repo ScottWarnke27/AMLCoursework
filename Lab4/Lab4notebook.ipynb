{
 "cells": [
  {
   "cell_type": "code",
   "execution_count": 1,
   "id": "29055c1b",
   "metadata": {},
   "outputs": [],
   "source": [
    "import pandas as pd\n",
    "data = pd.read_csv(\"./data.csv\")"
   ]
  },
  {
   "cell_type": "code",
   "execution_count": 2,
   "id": "a91818ab",
   "metadata": {},
   "outputs": [
    {
     "data": {
      "text/plain": [
       "(569, 33)"
      ]
     },
     "execution_count": 2,
     "metadata": {},
     "output_type": "execute_result"
    }
   ],
   "source": [
    "#different looks at the data\n",
    "data\n",
    "list(data)\n",
    "data.shape"
   ]
  },
  {
   "cell_type": "code",
   "execution_count": 3,
   "id": "00aeac7b",
   "metadata": {},
   "outputs": [],
   "source": [
    "#using the data.iloc, pull the thrid and foruth.. columns 2&3\n",
    "#iloc will not include the last index...in this case 4 (column4)\n",
    "x = data.iloc[:,2:4]\n",
    "\n",
    "#pull the y variable M or B\n",
    "y = data.iloc[:,1]\n",
    "\n",
    "#put these into a numpy array\n",
    "x = x.values\n",
    "y = y.values\n"
   ]
  },
  {
   "cell_type": "code",
   "execution_count": 4,
   "id": "2ce4eedb",
   "metadata": {},
   "outputs": [],
   "source": [
    "#split data into x, y, training and testing data sets\n",
    "from sklearn.model_selection import train_test_split\n",
    "x_train, x_test, y_train, y_test = train_test_split(x,y, test_size=0.25, random_state=1693)"
   ]
  },
  {
   "cell_type": "code",
   "execution_count": 5,
   "id": "b6a6ec6a",
   "metadata": {},
   "outputs": [],
   "source": [
    "#scale the x data to help with modeling\n",
    "from sklearn.preprocessing import StandardScaler\n",
    "scale_x = StandardScaler()\n",
    "x_train = scale_x.fit_transform(x_train)\n",
    "x_test = scale_x.transform(x_test)\n",
    "\n"
   ]
  },
  {
   "cell_type": "code",
   "execution_count": 6,
   "id": "faf856d4",
   "metadata": {},
   "outputs": [
    {
     "data": {
      "text/plain": [
       "LogisticRegression(C=1.0, class_weight=None, dual=False, fit_intercept=True,\n",
       "          intercept_scaling=1, max_iter=100, multi_class='ovr', n_jobs=1,\n",
       "          penalty='l2', random_state=1693, solver='liblinear', tol=0.0001,\n",
       "          verbose=0, warm_start=False)"
      ]
     },
     "execution_count": 6,
     "metadata": {},
     "output_type": "execute_result"
    }
   ],
   "source": [
    "from sklearn.linear_model import LogisticRegression\n",
    "#logistic regression, project the probability that something fits into a class\n",
    "\n",
    "#define the logistic regression\n",
    "logistic_classifier = LogisticRegression(random_state=1693)\n",
    "\n",
    "#fit the model to the data\n",
    "logistic_classifier.fit(x_train, y_train)"
   ]
  },
  {
   "cell_type": "code",
   "execution_count": 7,
   "id": "18e2660f",
   "metadata": {},
   "outputs": [
    {
     "data": {
      "text/plain": [
       "array(['B', 'B', 'B', 'B', 'M', 'B', 'B', 'B', 'M', 'B', 'B', 'M', 'M',\n",
       "       'M', 'M', 'M', 'B', 'B', 'M', 'M', 'B', 'M', 'B', 'M', 'B', 'B',\n",
       "       'B', 'B', 'B', 'M', 'M', 'B', 'M', 'B', 'B', 'B', 'M', 'B', 'M',\n",
       "       'M', 'M', 'B', 'M', 'B', 'B', 'M', 'M', 'B', 'B', 'M', 'M', 'B',\n",
       "       'B', 'B', 'B', 'M', 'B', 'M', 'B', 'M', 'B', 'B', 'M', 'B', 'B',\n",
       "       'M', 'M', 'B', 'M', 'B', 'B', 'M', 'M', 'B', 'B', 'M', 'B', 'B',\n",
       "       'B', 'B', 'B', 'M', 'M', 'M', 'M', 'M', 'B', 'M', 'M', 'M', 'B',\n",
       "       'B', 'M', 'B', 'M', 'M', 'B', 'M', 'M', 'B', 'B', 'B', 'B', 'M',\n",
       "       'B', 'M', 'B', 'B', 'M', 'B', 'B', 'B', 'M', 'B', 'M', 'B', 'B',\n",
       "       'B', 'B', 'M', 'B', 'M', 'B', 'B', 'M', 'B', 'M', 'M', 'B', 'B',\n",
       "       'M', 'M', 'M', 'B', 'M', 'B', 'B', 'M', 'B', 'B', 'M', 'B', 'B'],\n",
       "      dtype=object)"
      ]
     },
     "execution_count": 7,
     "metadata": {},
     "output_type": "execute_result"
    }
   ],
   "source": [
    "y_pred = logistic_classifier.predict(x_test)\n",
    "\n",
    "#look at what our model predicted\n",
    "y_pred"
   ]
  },
  {
   "cell_type": "code",
   "execution_count": 8,
   "id": "cea34086",
   "metadata": {},
   "outputs": [
    {
     "data": {
      "text/plain": [
       "array([[6.18472499e-01, 3.81527501e-01],\n",
       "       [9.86087498e-01, 1.39125019e-02],\n",
       "       [5.72135355e-01, 4.27864645e-01],\n",
       "       [9.56769859e-01, 4.32301408e-02],\n",
       "       [1.76486455e-01, 8.23513545e-01],\n",
       "       [8.18349503e-01, 1.81650497e-01],\n",
       "       [9.64766037e-01, 3.52339629e-02],\n",
       "       [9.66249033e-01, 3.37509669e-02],\n",
       "       [4.56633384e-02, 9.54336662e-01],\n",
       "       [9.98364484e-01, 1.63551557e-03],\n",
       "       [9.77499678e-01, 2.25003225e-02],\n",
       "       [4.80948484e-02, 9.51905152e-01],\n",
       "       [1.02717474e-01, 8.97282526e-01],\n",
       "       [1.62185812e-01, 8.37814188e-01],\n",
       "       [5.49073050e-03, 9.94509269e-01],\n",
       "       [1.54953258e-04, 9.99845047e-01],\n",
       "       [9.89413966e-01, 1.05860341e-02],\n",
       "       [9.35998085e-01, 6.40019146e-02],\n",
       "       [8.68797327e-05, 9.99913120e-01],\n",
       "       [7.92385849e-02, 9.20761415e-01],\n",
       "       [9.67201559e-01, 3.27984405e-02],\n",
       "       [1.29159060e-01, 8.70840940e-01],\n",
       "       [9.93566046e-01, 6.43395428e-03],\n",
       "       [1.39094334e-02, 9.86090567e-01],\n",
       "       [5.57238503e-01, 4.42761497e-01],\n",
       "       [7.17952661e-01, 2.82047339e-01],\n",
       "       [9.86783992e-01, 1.32160084e-02],\n",
       "       [7.75798973e-01, 2.24201027e-01],\n",
       "       [8.73560215e-01, 1.26439785e-01],\n",
       "       [2.38645349e-01, 7.61354651e-01],\n",
       "       [4.67957543e-01, 5.32042457e-01],\n",
       "       [9.93437310e-01, 6.56268958e-03],\n",
       "       [5.67714172e-02, 9.43228583e-01],\n",
       "       [9.91778743e-01, 8.22125671e-03],\n",
       "       [8.87546021e-01, 1.12453979e-01],\n",
       "       [5.18449765e-01, 4.81550235e-01],\n",
       "       [3.41072596e-03, 9.96589274e-01],\n",
       "       [9.52336096e-01, 4.76639036e-02],\n",
       "       [2.53607554e-02, 9.74639245e-01],\n",
       "       [4.66214668e-01, 5.33785332e-01],\n",
       "       [7.27244212e-06, 9.99992728e-01],\n",
       "       [8.44210598e-01, 1.55789402e-01],\n",
       "       [3.06580476e-01, 6.93419524e-01],\n",
       "       [9.92881447e-01, 7.11855337e-03],\n",
       "       [6.44668511e-01, 3.55331489e-01],\n",
       "       [1.56987095e-01, 8.43012905e-01],\n",
       "       [4.90495294e-02, 9.50950471e-01],\n",
       "       [7.73713851e-01, 2.26286149e-01],\n",
       "       [8.03591352e-01, 1.96408648e-01],\n",
       "       [8.21261963e-03, 9.91787380e-01],\n",
       "       [1.36016460e-03, 9.98639835e-01],\n",
       "       [9.59446057e-01, 4.05539427e-02],\n",
       "       [9.56469934e-01, 4.35300662e-02],\n",
       "       [8.40516511e-01, 1.59483489e-01],\n",
       "       [9.68439975e-01, 3.15600253e-02],\n",
       "       [2.75889962e-03, 9.97241100e-01],\n",
       "       [9.74314796e-01, 2.56852040e-02],\n",
       "       [3.67645188e-01, 6.32354812e-01],\n",
       "       [8.53713515e-01, 1.46286485e-01],\n",
       "       [4.23835219e-01, 5.76164781e-01],\n",
       "       [8.45480323e-01, 1.54519677e-01],\n",
       "       [7.56890935e-01, 2.43109065e-01],\n",
       "       [6.97513767e-06, 9.99993025e-01],\n",
       "       [9.24432705e-01, 7.55672948e-02],\n",
       "       [9.70507809e-01, 2.94921907e-02],\n",
       "       [2.76887969e-01, 7.23112031e-01],\n",
       "       [4.13809439e-03, 9.95861906e-01],\n",
       "       [9.98126260e-01, 1.87373967e-03],\n",
       "       [1.04401353e-03, 9.98955986e-01],\n",
       "       [9.55192868e-01, 4.48071322e-02],\n",
       "       [8.70631957e-01, 1.29368043e-01],\n",
       "       [1.43036054e-01, 8.56963946e-01],\n",
       "       [3.80142456e-01, 6.19857544e-01],\n",
       "       [6.60526196e-01, 3.39473804e-01],\n",
       "       [9.91622472e-01, 8.37752779e-03],\n",
       "       [4.00410998e-02, 9.59958900e-01],\n",
       "       [9.30837342e-01, 6.91626583e-02],\n",
       "       [9.11447763e-01, 8.85522365e-02],\n",
       "       [9.93502658e-01, 6.49734242e-03],\n",
       "       [9.65145647e-01, 3.48543530e-02],\n",
       "       [9.94222274e-01, 5.77772604e-03],\n",
       "       [3.03498302e-01, 6.96501698e-01],\n",
       "       [6.49825619e-03, 9.93501744e-01],\n",
       "       [2.58956228e-01, 7.41043772e-01],\n",
       "       [1.94293205e-01, 8.05706795e-01],\n",
       "       [2.02674639e-02, 9.79732536e-01],\n",
       "       [6.48721650e-01, 3.51278350e-01],\n",
       "       [2.75681031e-02, 9.72431897e-01],\n",
       "       [3.75823969e-02, 9.62417603e-01],\n",
       "       [3.85279393e-02, 9.61472061e-01],\n",
       "       [9.26749399e-01, 7.32506005e-02],\n",
       "       [9.78979072e-01, 2.10209279e-02],\n",
       "       [2.29472133e-01, 7.70527867e-01],\n",
       "       [7.92173172e-01, 2.07826828e-01],\n",
       "       [4.37267353e-02, 9.56273265e-01],\n",
       "       [7.51788470e-02, 9.24821153e-01],\n",
       "       [9.41820283e-01, 5.81797170e-02],\n",
       "       [2.49665599e-01, 7.50334401e-01],\n",
       "       [1.83451963e-01, 8.16548037e-01],\n",
       "       [6.48837112e-01, 3.51162888e-01],\n",
       "       [9.90677267e-01, 9.32273257e-03],\n",
       "       [9.58541032e-01, 4.14589680e-02],\n",
       "       [9.87262067e-01, 1.27379326e-02],\n",
       "       [4.57406003e-01, 5.42593997e-01],\n",
       "       [9.73103011e-01, 2.68969887e-02],\n",
       "       [4.59563933e-01, 5.40436067e-01],\n",
       "       [6.21981094e-01, 3.78018906e-01],\n",
       "       [9.71281722e-01, 2.87182782e-02],\n",
       "       [2.47561577e-01, 7.52438423e-01],\n",
       "       [9.32440525e-01, 6.75594747e-02],\n",
       "       [9.92455487e-01, 7.54451327e-03],\n",
       "       [9.57653641e-01, 4.23463590e-02],\n",
       "       [1.46743267e-01, 8.53256733e-01],\n",
       "       [5.20335861e-01, 4.79664139e-01],\n",
       "       [9.91760631e-04, 9.99008239e-01],\n",
       "       [9.54880905e-01, 4.51190951e-02],\n",
       "       [9.95772618e-01, 4.22738238e-03],\n",
       "       [9.76221708e-01, 2.37782920e-02],\n",
       "       [5.56622407e-01, 4.43377593e-01],\n",
       "       [2.08273311e-02, 9.79172669e-01],\n",
       "       [5.85386088e-01, 4.14613912e-01],\n",
       "       [1.57943447e-01, 8.42056553e-01],\n",
       "       [9.87868263e-01, 1.21317374e-02],\n",
       "       [9.26277129e-01, 7.37228707e-02],\n",
       "       [1.05561886e-03, 9.98944381e-01],\n",
       "       [9.09175710e-01, 9.08242896e-02],\n",
       "       [6.33684961e-03, 9.93663150e-01],\n",
       "       [7.38566103e-03, 9.92614339e-01],\n",
       "       [6.54937360e-01, 3.45062640e-01],\n",
       "       [9.17407936e-01, 8.25920638e-02],\n",
       "       [3.55028823e-01, 6.44971177e-01],\n",
       "       [2.83996151e-01, 7.16003849e-01],\n",
       "       [3.94285391e-03, 9.96057146e-01],\n",
       "       [9.54509443e-01, 4.54905574e-02],\n",
       "       [1.45091573e-03, 9.98549084e-01],\n",
       "       [9.94611354e-01, 5.38864630e-03],\n",
       "       [9.34574472e-01, 6.54255284e-02],\n",
       "       [1.44630419e-02, 9.85536958e-01],\n",
       "       [7.24403517e-01, 2.75596483e-01],\n",
       "       [5.87471278e-01, 4.12528722e-01],\n",
       "       [3.39497310e-01, 6.60502690e-01],\n",
       "       [9.73908150e-01, 2.60918502e-02],\n",
       "       [9.13314564e-01, 8.66854360e-02]])"
      ]
     },
     "execution_count": 8,
     "metadata": {},
     "output_type": "execute_result"
    }
   ],
   "source": [
    "#look at the probabilities of the predictions\n",
    "y_pred_probabilities = logistic_classifier.predict_proba(x_test)\n",
    "y_pred_probabilities"
   ]
  },
  {
   "cell_type": "code",
   "execution_count": 9,
   "id": "e9aa1c24",
   "metadata": {},
   "outputs": [
    {
     "data": {
      "text/plain": [
       "array([[75, 10],\n",
       "       [ 6, 52]])"
      ]
     },
     "execution_count": 9,
     "metadata": {},
     "output_type": "execute_result"
    }
   ],
   "source": [
    "#confusion matrix\n",
    "from sklearn.metrics import confusion_matrix\n",
    "confMat = confusion_matrix(y_test, y_pred)\n",
    "confMat"
   ]
  },
  {
   "cell_type": "code",
   "execution_count": 10,
   "id": "915eb8be",
   "metadata": {},
   "outputs": [],
   "source": [
    "#Here is a nice function to display confusion matricies\n",
    "def print_cm(cm, labels, hide_zeroes=False, hide_diagonal=False, hide_threshold=None):\n",
    "    \"\"\"pretty print for confusion matrixes\"\"\"\n",
    "    columnwidth = max([len(x) for x in labels] + [5])  # 5 is value length\n",
    "    empty_cell = \" \" * columnwidth\n",
    "    # Print header\n",
    "    print(\"    \" + empty_cell, end=\" \")\n",
    "    for label in labels:\n",
    "        print(\"%{0}s\".format(columnwidth) % label, end=\" \")\n",
    "    print()\n",
    "    # Print rows\n",
    "    for i, label1 in enumerate(labels):\n",
    "        print(\"    %{0}s\".format(columnwidth) % label1, end=\" \")\n",
    "        for j in range(len(labels)):\n",
    "            cell = \"%{0}.1f\".format(columnwidth) % cm[i, j]\n",
    "            if hide_zeroes:\n",
    "                cell = cell if float(cm[i, j]) != 0 else empty_cell\n",
    "            if hide_diagonal:\n",
    "                cell = cell if i != j else empty_cell\n",
    "            if hide_threshold:\n",
    "                cell = cell if cm[i, j] > hide_threshold else empty_cell\n",
    "            print(cell, end=\" \")\n",
    "        print()"
   ]
  },
  {
   "cell_type": "code",
   "execution_count": 11,
   "id": "76108aee",
   "metadata": {},
   "outputs": [
    {
     "name": "stdout",
     "output_type": "stream",
     "text": [
      "                 Benign Malignant \n",
      "       Benign      75.0      10.0 \n",
      "    Malignant       6.0      52.0 \n"
     ]
    }
   ],
   "source": [
    "print_cm(confMat, [\"Benign\",\"Malignant\"])\n",
    "#predictions are the rows, or left of the matrix\n",
    "#ground truth are the columns, or the top of the matrix\n",
    "#False positives are the bottom left\n",
    "#False negitives are the top right"
   ]
  },
  {
   "cell_type": "code",
   "execution_count": 12,
   "id": "96f98bb3",
   "metadata": {},
   "outputs": [
    {
     "data": {
      "text/plain": [
       "KNeighborsClassifier(algorithm='auto', leaf_size=30, metric='minkowski',\n",
       "           metric_params=None, n_jobs=1, n_neighbors=5, p=2,\n",
       "           weights='uniform')"
      ]
     },
     "execution_count": 12,
     "metadata": {},
     "output_type": "execute_result"
    }
   ],
   "source": [
    "#kNN\n",
    "from sklearn.neighbors import KNeighborsClassifier\n",
    "\n",
    "#a euclidean distance is equal to the minkowski distance wih p=2\n",
    "nn_classifier = KNeighborsClassifier(n_neighbors = 5, metric =\"minkowski\", p= 2)\n",
    "nn_classifier.fit(x_train, y_train)"
   ]
  },
  {
   "cell_type": "code",
   "execution_count": 13,
   "id": "37c5aa77",
   "metadata": {},
   "outputs": [
    {
     "data": {
      "text/plain": [
       "array(['B', 'B', 'M', 'B', 'M', 'B', 'B', 'B', 'M', 'B', 'B', 'M', 'M',\n",
       "       'B', 'M', 'M', 'B', 'B', 'M', 'M', 'B', 'M', 'B', 'M', 'M', 'M',\n",
       "       'B', 'B', 'B', 'M', 'B', 'B', 'M', 'B', 'B', 'M', 'M', 'B', 'M',\n",
       "       'B', 'M', 'B', 'B', 'B', 'B', 'M', 'M', 'B', 'B', 'M', 'M', 'B',\n",
       "       'B', 'B', 'B', 'M', 'B', 'B', 'B', 'B', 'B', 'B', 'M', 'B', 'B',\n",
       "       'M', 'M', 'B', 'M', 'B', 'B', 'M', 'M', 'B', 'B', 'M', 'B', 'B',\n",
       "       'B', 'B', 'B', 'M', 'M', 'M', 'B', 'M', 'B', 'M', 'M', 'M', 'B',\n",
       "       'B', 'M', 'B', 'M', 'M', 'B', 'M', 'M', 'B', 'B', 'B', 'B', 'M',\n",
       "       'B', 'B', 'M', 'B', 'B', 'B', 'B', 'B', 'M', 'B', 'M', 'B', 'B',\n",
       "       'B', 'B', 'M', 'M', 'M', 'B', 'B', 'M', 'B', 'M', 'M', 'B', 'B',\n",
       "       'M', 'M', 'M', 'B', 'M', 'B', 'B', 'M', 'B', 'B', 'M', 'B', 'B'],\n",
       "      dtype=object)"
      ]
     },
     "execution_count": 13,
     "metadata": {},
     "output_type": "execute_result"
    }
   ],
   "source": [
    "y_pred_NN = nn_classifier.predict(x_test)\n",
    "y_pred_NN"
   ]
  },
  {
   "cell_type": "code",
   "execution_count": 14,
   "id": "5f0e5258",
   "metadata": {},
   "outputs": [
    {
     "data": {
      "text/plain": [
       "array(['B', 'B', 'B', 'B', 'M', 'B', 'B', 'B', 'M', 'B', 'B', 'M', 'M',\n",
       "       'M', 'M', 'M', 'B', 'B', 'M', 'M', 'B', 'B', 'B', 'M', 'B', 'B',\n",
       "       'B', 'B', 'B', 'M', 'B', 'B', 'M', 'B', 'B', 'B', 'M', 'B', 'M',\n",
       "       'B', 'M', 'B', 'B', 'B', 'B', 'M', 'M', 'B', 'B', 'M', 'M', 'B',\n",
       "       'B', 'B', 'B', 'M', 'B', 'B', 'B', 'M', 'B', 'M', 'M', 'B', 'B',\n",
       "       'M', 'M', 'B', 'M', 'B', 'B', 'M', 'M', 'B', 'B', 'M', 'B', 'B',\n",
       "       'B', 'B', 'B', 'B', 'M', 'M', 'B', 'M', 'M', 'M', 'M', 'M', 'B',\n",
       "       'B', 'M', 'B', 'M', 'M', 'M', 'M', 'M', 'M', 'B', 'B', 'B', 'M',\n",
       "       'B', 'M', 'B', 'B', 'B', 'B', 'B', 'B', 'M', 'M', 'M', 'B', 'B',\n",
       "       'B', 'B', 'M', 'B', 'M', 'B', 'B', 'M', 'B', 'M', 'M', 'M', 'B',\n",
       "       'B', 'B', 'M', 'B', 'M', 'B', 'B', 'M', 'B', 'B', 'M', 'B', 'B'],\n",
       "      dtype=object)"
      ]
     },
     "execution_count": 14,
     "metadata": {},
     "output_type": "execute_result"
    }
   ],
   "source": [
    "y_test"
   ]
  },
  {
   "cell_type": "code",
   "execution_count": 15,
   "id": "89af301b",
   "metadata": {},
   "outputs": [
    {
     "name": "stdout",
     "output_type": "stream",
     "text": [
      "                 Benign Malignant \n",
      "       Benign      75.0      10.0 \n",
      "    Malignant       9.0      49.0 \n"
     ]
    }
   ],
   "source": [
    "confMat_NN = confusion_matrix(y_test, y_pred_NN)\n",
    "print_cm(confMat_NN, [\"Benign\", \"Malignant\"])"
   ]
  },
  {
   "cell_type": "code",
   "execution_count": 16,
   "id": "264c4277",
   "metadata": {},
   "outputs": [],
   "source": [
    "import numpy as np\n",
    "import matplotlib.pyplot as plt\n",
    "from matplotlib.colors import ListedColormap\n",
    "from sklearn.preprocessing import LabelEncoder\n",
    "\n",
    "#def viz_cm(model, labels, fPath=\"outputs/vizCmOutput.png\"):\n",
    "def viz_cm(model, labels):\n",
    "    \n",
    "    x_set, y_set = x_train, y_train\n",
    "    x1, x2 = np.meshgrid(np.arange(start = x_set[:, 0].min() - 1, stop = x_set[:, 0].max() + 1, step = 0.01), np.arange(start = x_set[:, 1].min() - 1, stop = x_set[:, 1].max() + 1, step = 0.01))\n",
    "\n",
    "    pred = model.predict(np.array([x1.ravel(), x2.ravel()]).T)\n",
    "\n",
    "    discreteCoder = LabelEncoder()\n",
    "    pred = discreteCoder.fit_transform(pred)\n",
    "    plt.figure()\n",
    "    plt.contourf(x1, x2, pred.reshape(x1.shape),alpha = 0.75, cmap = ListedColormap(('red', 'green')))\n",
    "    plt.xlim(x1.min(), x1.max())\n",
    "    plt.ylim(x2.min(), x2.max())\n",
    "    for i, j in enumerate(np.unique(y_set)):\n",
    "        plt.scatter(x_set[y_set == j, 0], x_set[y_set == j, 1], c = ListedColormap(('red', 'green'))(i), label = j)\n",
    "    plt.title('Classification')\n",
    "    plt.xlabel(labels[0])\n",
    "    plt.ylabel(labels[1])\n",
    "    plt.legend()\n",
    "    \n",
    "    #If you're on Jupyter Notebook, you can use this:\n",
    "    #plt.show()\n",
    "    #plt.savefig(fPath)\n"
   ]
  },
  {
   "cell_type": "code",
   "execution_count": 58,
   "id": "0c370c50",
   "metadata": {},
   "outputs": [
    {
     "name": "stderr",
     "output_type": "stream",
     "text": [
      "'c' argument looks like a single numeric RGB or RGBA sequence, which should be avoided as value-mapping will have precedence in case its length matches with 'x' & 'y'.  Please use a 2-D array with a single row if you really want to specify the same RGB or RGBA value for all points.\n",
      "'c' argument looks like a single numeric RGB or RGBA sequence, which should be avoided as value-mapping will have precedence in case its length matches with 'x' & 'y'.  Please use a 2-D array with a single row if you really want to specify the same RGB or RGBA value for all points.\n"
     ]
    },
    {
     "data": {
      "image/png": "[encoded data removed]",
      "text/plain": [
       "<Figure size 432x288 with 1 Axes>"
      ]
     },
     "metadata": {
      "needs_background": "light"
     },
     "output_type": "display_data"
    }
   ],
   "source": [
    "viz_cm(model=nn_classifier, labels=[\"Radius Mean\", \"Texture Mean\"])"
   ]
  },
  {
   "cell_type": "code",
   "execution_count": 18,
   "id": "993999fa",
   "metadata": {},
   "outputs": [
    {
     "data": {
      "text/plain": [
       "SVC(C=1.0, cache_size=200, class_weight=None, coef0=0.0,\n",
       "  decision_function_shape='ovr', degree=3, gamma='auto', kernel='linear',\n",
       "  max_iter=-1, probability=False, random_state=1693, shrinking=True,\n",
       "  tol=0.001, verbose=False)"
      ]
     },
     "execution_count": 18,
     "metadata": {},
     "output_type": "execute_result"
    }
   ],
   "source": [
    "from sklearn.svm import SVC\n",
    "svc_classifier = SVC(kernel=\"linear\", random_state=1693)\n",
    "svc_classifier.fit(x_train, y_train)"
   ]
  },
  {
   "cell_type": "code",
   "execution_count": 22,
   "id": "9d529cce",
   "metadata": {},
   "outputs": [],
   "source": [
    "y_pred_svc = svc_classifier.predict(x_test)"
   ]
  },
  {
   "cell_type": "code",
   "execution_count": 23,
   "id": "27f72906",
   "metadata": {},
   "outputs": [
    {
     "data": {
      "text/plain": [
       "array(['B', 'B', 'B', 'B', 'M', 'B', 'B', 'B', 'M', 'B', 'B', 'M', 'M',\n",
       "       'M', 'M', 'M', 'B', 'B', 'M', 'M', 'B', 'M', 'B', 'M', 'B', 'B',\n",
       "       'B', 'B', 'B', 'M', 'M', 'B', 'M', 'B', 'B', 'B', 'M', 'B', 'M',\n",
       "       'M', 'M', 'B', 'M', 'B', 'B', 'M', 'M', 'B', 'B', 'M', 'M', 'B',\n",
       "       'B', 'B', 'B', 'M', 'B', 'M', 'B', 'M', 'B', 'B', 'M', 'B', 'B',\n",
       "       'M', 'M', 'B', 'M', 'B', 'B', 'M', 'M', 'B', 'B', 'M', 'B', 'B',\n",
       "       'B', 'B', 'B', 'M', 'M', 'M', 'M', 'M', 'B', 'M', 'M', 'M', 'B',\n",
       "       'B', 'M', 'B', 'M', 'M', 'B', 'M', 'M', 'B', 'B', 'B', 'B', 'M',\n",
       "       'B', 'M', 'B', 'B', 'M', 'B', 'B', 'B', 'M', 'B', 'M', 'B', 'B',\n",
       "       'B', 'B', 'M', 'B', 'M', 'B', 'B', 'M', 'B', 'M', 'M', 'B', 'B',\n",
       "       'M', 'M', 'M', 'B', 'M', 'B', 'B', 'M', 'B', 'B', 'M', 'B', 'B'],\n",
       "      dtype=object)"
      ]
     },
     "execution_count": 23,
     "metadata": {},
     "output_type": "execute_result"
    }
   ],
   "source": [
    "y_pred_svc"
   ]
  },
  {
   "cell_type": "code",
   "execution_count": 24,
   "id": "bb0da014",
   "metadata": {},
   "outputs": [
    {
     "name": "stdout",
     "output_type": "stream",
     "text": [
      "                 Benign Malignant \n",
      "       Benign      75.0      10.0 \n",
      "    Malignant       6.0      52.0 \n"
     ]
    }
   ],
   "source": [
    "confMat_svc = confusion_matrix(y_test, y_pred_svc)\n",
    "print_cm(confMat_svc, [\"Benign\", \"Malignant\"])"
   ]
  },
  {
   "cell_type": "code",
   "execution_count": 27,
   "id": "09ffc9b1",
   "metadata": {},
   "outputs": [
    {
     "name": "stderr",
     "output_type": "stream",
     "text": [
      "'c' argument looks like a single numeric RGB or RGBA sequence, which should be avoided as value-mapping will have precedence in case its length matches with 'x' & 'y'.  Please use a 2-D array with a single row if you really want to specify the same RGB or RGBA value for all points.\n",
      "'c' argument looks like a single numeric RGB or RGBA sequence, which should be avoided as value-mapping will have precedence in case its length matches with 'x' & 'y'.  Please use a 2-D array with a single row if you really want to specify the same RGB or RGBA value for all points.\n"
     ]
    },
    {
     "data": {
      "image/png": "[encoded data removed]",
      "text/plain": [
       "<Figure size 432x288 with 1 Axes>"
      ]
     },
     "metadata": {
      "needs_background": "light"
     },
     "output_type": "display_data"
    }
   ],
   "source": [
    "#visualization of SVC\n",
    "viz_cm(model=svc_classifier, labels=[\"Radius Mean\", \"Texture Mean\"])"
   ]
  },
  {
   "cell_type": "code",
   "execution_count": 28,
   "id": "e9487410",
   "metadata": {},
   "outputs": [
    {
     "data": {
      "text/plain": [
       "SVC(C=1.0, cache_size=200, class_weight=None, coef0=0.0,\n",
       "  decision_function_shape='ovr', degree=3, gamma='auto', kernel='rbf',\n",
       "  max_iter=-1, probability=False, random_state=1693, shrinking=True,\n",
       "  tol=0.001, verbose=False)"
      ]
     },
     "execution_count": 28,
     "metadata": {},
     "output_type": "execute_result"
    }
   ],
   "source": [
    "#kernel svm\n",
    "\n",
    "#website with kernel examples\n",
    "#https://scikit-learn.org/stable/modules/svm.html\n",
    "\n",
    "from sklearn.svm import SVC\n",
    "kernelsvc_classifier = SVC(kernel=\"rbf\", random_state=1693)\n",
    "kernelsvc_classifier.fit(x_train, y_train)"
   ]
  },
  {
   "cell_type": "code",
   "execution_count": 32,
   "id": "efc456dd",
   "metadata": {},
   "outputs": [
    {
     "name": "stdout",
     "output_type": "stream",
     "text": [
      "                 Benign Malignant \n",
      "       Benign      78.0       7.0 \n",
      "    Malignant       5.0      53.0 \n"
     ]
    }
   ],
   "source": [
    "y_pred_svc_kernel = kernelsvc_classifier.predict(x_test)\n",
    "\n",
    "#if you want to see the results of the prediction\n",
    "#y_pred_svc_kernel\n",
    "confMat_svc_kernel = confusion_matrix(y_test, y_pred_svc_kernel)\n",
    "print_cm(confMat_svc_kernel, [\"Benign\", \"Malignant\"])"
   ]
  },
  {
   "cell_type": "code",
   "execution_count": 33,
   "id": "b550d486",
   "metadata": {},
   "outputs": [
    {
     "name": "stderr",
     "output_type": "stream",
     "text": [
      "'c' argument looks like a single numeric RGB or RGBA sequence, which should be avoided as value-mapping will have precedence in case its length matches with 'x' & 'y'.  Please use a 2-D array with a single row if you really want to specify the same RGB or RGBA value for all points.\n",
      "'c' argument looks like a single numeric RGB or RGBA sequence, which should be avoided as value-mapping will have precedence in case its length matches with 'x' & 'y'.  Please use a 2-D array with a single row if you really want to specify the same RGB or RGBA value for all points.\n"
     ]
    },
    {
     "data": {
      "image/png": "[encoded data removed]",
      "text/plain": [
       "<Figure size 432x288 with 1 Axes>"
      ]
     },
     "metadata": {
      "needs_background": "light"
     },
     "output_type": "display_data"
    }
   ],
   "source": [
    "#visualize the prediction\n",
    "viz_cm(model=kernelsvc_classifier, labels=[\"Radius Mean\", \"Texture Mean\"])"
   ]
  },
  {
   "cell_type": "code",
   "execution_count": 37,
   "id": "669b7a03",
   "metadata": {},
   "outputs": [
    {
     "name": "stdout",
     "output_type": "stream",
     "text": [
      "The prediction for tumor A is: ['M']\n"
     ]
    }
   ],
   "source": [
    "#Answering Lab questions\n",
    "\n",
    "#predict the classification of a tumor with radius mean of 15.78 and texture mean of 17.89\n",
    "new_tumor_A = [[15.78, 17.89]]\n",
    "new_tumor_A_scaled = scale_x.transform(new_tumor_A) \n",
    "new_tumor_A_prediction = kernelsvc_classifier.predict(new_tumor_A_scaled)\n",
    "print(\"The prediction for tumor A is: \"+str(new_tumor_A_prediction))"
   ]
  },
  {
   "cell_type": "code",
   "execution_count": 42,
   "id": "6896cd67",
   "metadata": {},
   "outputs": [
    {
     "name": "stdout",
     "output_type": "stream",
     "text": [
      "The prediction for tumor B is: ['M']\n",
      "The probabilities for tumor B (Benign, Malignant) are: [[0.35477952 0.64522048]]\n"
     ]
    }
   ],
   "source": [
    "#Answering Lab questions\n",
    "\n",
    "\n",
    "#predict the classification of a tumor with radius mean of 15.78 and texture mean of 17.89\n",
    "new_tumor_B = [[15.78, 17.89]]\n",
    "new_tumor_B_scaled = scale_x.transform(new_tumor_B) \n",
    "new_tumor_B_prediction = logistic_classifier.predict(new_tumor_B_scaled)\n",
    "new_tumor_B_probabilities = logistic_classifier.predict_proba(new_tumor_B_scaled)\n",
    "print(\"The prediction for tumor B is: \"+str(new_tumor_B_prediction))\n",
    "print(\"The probabilities for tumor B (Benign, Malignant) are: \"+str(new_tumor_B_probabilities))"
   ]
  },
  {
   "cell_type": "code",
   "execution_count": 43,
   "id": "4a3e2edd",
   "metadata": {},
   "outputs": [
    {
     "data": {
      "text/plain": [
       "(426, 2)"
      ]
     },
     "execution_count": 43,
     "metadata": {},
     "output_type": "execute_result"
    }
   ],
   "source": [
    "\n",
    "x_train.shape"
   ]
  },
  {
   "cell_type": "code",
   "execution_count": 44,
   "id": "73752319",
   "metadata": {},
   "outputs": [
    {
     "name": "stdout",
     "output_type": "stream",
     "text": [
      "The prediction for tumor c is: ['B']\n"
     ]
    }
   ],
   "source": [
    "#Answering Lab questions\n",
    "\n",
    "y_pred_NN = nn_classifier.predict(x_test)\n",
    "\n",
    "#predict the classification of a tumor with radius mean of 17.18 and texture mean of 8.65\n",
    "new_tumor_C = [[17.18, 8.65]]\n",
    "new_tumor_C_scaled = scale_x.transform(new_tumor_C) \n",
    "new_tumor_C_prediction = nn_classifier.predict(new_tumor_C_scaled)\n",
    "print(\"The prediction for tumor c is: \"+str(new_tumor_C_prediction))"
   ]
  },
  {
   "cell_type": "code",
   "execution_count": null,
   "id": "3fb0c80d",
   "metadata": {},
   "outputs": [],
   "source": []
  }
 ],
 "metadata": {
  "kernelspec": {
   "display_name": "conda_ML",
   "language": "python",
   "name": "conda_ml"
  },
  "language_info": {
   "codemirror_mode": {
    "name": "ipython",
    "version": 3
   },
   "file_extension": ".py",
   "mimetype": "text/x-python",
   "name": "python",
   "nbconvert_exporter": "python",
   "pygments_lexer": "ipython3",
   "version": "3.5.6"
  }
 },
 "nbformat": 4,
 "nbformat_minor": 5
}
