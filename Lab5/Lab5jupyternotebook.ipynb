{
 "cells": [
  {
   "cell_type": "code",
   "execution_count": 1,
   "id": "8b56d08d",
   "metadata": {},
   "outputs": [],
   "source": [
    "import pandas as pd\n",
    "from sklearn.model_selection import train_test_split\n",
    "from sklearn.preprocessing import StandardScaler\n",
    "\n",
    "import numpy as no\n",
    "import matplotlib.pyplot as plt\n",
    "\n",
    "data = pd.read_csv(\"./data.csv\")"
   ]
  },
  {
   "cell_type": "code",
   "execution_count": 2,
   "id": "4d22c9db",
   "metadata": {},
   "outputs": [],
   "source": [
    "#read in particular columns of the full data set into our X and Y\n",
    "x = data.iloc[:,2:4]\n",
    "y = data.iloc[:,1]\n",
    "\n",
    "#treat those columns as values\n",
    "x= x.values\n",
    "y= y.values\n",
    "\n",
    "#scale, fit, and transform our different data sets\n",
    "x_train, x_test, y_train, y_test = train_test_split(x, y, test_size= 0.25, random_state=1693)\n",
    "scale_x = StandardScaler()\n",
    "x_train = scale_x.fit_transform(x_train)\n",
    "x_test = scale_x.transform(x_test)"
   ]
  },
  {
   "cell_type": "code",
   "execution_count": 3,
   "id": "61f02dc5",
   "metadata": {},
   "outputs": [],
   "source": [
    "#Here is a nice function to display confusion matricies\n",
    "def print_cm(cm, labels, hide_zeroes=False, hide_diagonal=False, hide_threshold=None):\n",
    "    \"\"\"pretty print for confusion matrixes\"\"\"\n",
    "    columnwidth = max([len(x) for x in labels] + [5])  # 5 is value length\n",
    "    empty_cell = \" \" * columnwidth\n",
    "    # Print header\n",
    "    print(\"    \" + empty_cell, end=\" \")\n",
    "    for label in labels:\n",
    "        print(\"%{0}s\".format(columnwidth) % label, end=\" \")\n",
    "    print()\n",
    "    # Print rows\n",
    "    for i, label1 in enumerate(labels):\n",
    "        print(\"    %{0}s\".format(columnwidth) % label1, end=\" \")\n",
    "        for j in range(len(labels)):\n",
    "            cell = \"%{0}.1f\".format(columnwidth) % cm[i, j]\n",
    "            if hide_zeroes:\n",
    "                cell = cell if float(cm[i, j]) != 0 else empty_cell\n",
    "            if hide_diagonal:\n",
    "                cell = cell if i != j else empty_cell\n",
    "            if hide_threshold:\n",
    "                cell = cell if cm[i, j] > hide_threshold else empty_cell\n",
    "            print(cell, end=\" \")\n",
    "        print()"
   ]
  },
  {
   "cell_type": "code",
   "execution_count": 4,
   "id": "30aaa853",
   "metadata": {},
   "outputs": [],
   "source": [
    "#function to visualize a confusion matrix\n",
    "\n",
    "import numpy as np\n",
    "import matplotlib.pyplot as plt\n",
    "from matplotlib.colors import ListedColormap\n",
    "from sklearn.preprocessing import LabelEncoder\n",
    "\n",
    "#def viz_cm(model, labels, fPath=\"outputs/vizCmOutput.png\"):\n",
    "def viz_cm(model, labels):\n",
    "    \n",
    "    x_set, y_set = x_test, y_test\n",
    "    x1, x2 = np.meshgrid(np.arange(start = x_set[:, 0].min() - 1, stop = x_set[:, 0].max() + 1, step = 0.01), np.arange(start = x_set[:, 1].min() - 1, stop = x_set[:, 1].max() + 1, step = 0.01))\n",
    "\n",
    "    pred = model.predict(np.array([x1.ravel(), x2.ravel()]).T)\n",
    "\n",
    "    discreteCoder = LabelEncoder()\n",
    "    pred = discreteCoder.fit_transform(pred)\n",
    "    plt.figure()\n",
    "    plt.contourf(x1, x2, pred.reshape(x1.shape),alpha = 0.75, cmap = ListedColormap(('red', 'green')))\n",
    "    plt.xlim(x1.min(), x1.max())\n",
    "    plt.ylim(x2.min(), x2.max())\n",
    "    for i, j in enumerate(np.unique(y_set)):\n",
    "        plt.scatter(x_set[y_set == j, 0], x_set[y_set == j, 1], c = ListedColormap(('red', 'green'))(i), label = j)\n",
    "    plt.title('Classification')\n",
    "    plt.xlabel(labels[0])\n",
    "    plt.ylabel(labels[1])\n",
    "    plt.legend()\n",
    "    \n",
    "    #If you're on Jupyter Notebook, you can use this:\n",
    "    #plt.show()\n",
    "    #plt.savefig(fPath)\n"
   ]
  },
  {
   "cell_type": "code",
   "execution_count": 5,
   "id": "7015ee61",
   "metadata": {},
   "outputs": [
    {
     "data": {
      "text/plain": [
       "GaussianNB(priors=None)"
      ]
     },
     "execution_count": 5,
     "metadata": {},
     "output_type": "execute_result"
    }
   ],
   "source": [
    "#look at a bayesian classifier model of the tumor data\n",
    "from sklearn.naive_bayes import GaussianNB\n",
    "bayes_classifier = GaussianNB()\n",
    "bayes_classifier.fit(x_train, y_train)"
   ]
  },
  {
   "cell_type": "code",
   "execution_count": 6,
   "id": "545995d0",
   "metadata": {},
   "outputs": [
    {
     "name": "stdout",
     "output_type": "stream",
     "text": [
      "                 Benign Malignant \n",
      "       Benign      76.0       9.0 \n",
      "    Malignant       9.0      49.0 \n"
     ]
    }
   ],
   "source": [
    "#make predictions from our test data with our trained model\n",
    "y_pred = bayes_classifier.predict(x_test)\n",
    "y_pred\n",
    "y_test\n",
    "\n",
    "#look at the confusion matrix\n",
    "from sklearn.metrics import confusion_matrix\n",
    "confMat = confusion_matrix(y_test, y_pred)\n",
    "#true labels along the top, prediction labels on the left\n",
    "print_cm(confMat, [\"Benign\", \"Malignant\"])"
   ]
  },
  {
   "cell_type": "code",
   "execution_count": 7,
   "id": "3ffdf779",
   "metadata": {},
   "outputs": [
    {
     "name": "stderr",
     "output_type": "stream",
     "text": [
      "'c' argument looks like a single numeric RGB or RGBA sequence, which should be avoided as value-mapping will have precedence in case its length matches with 'x' & 'y'.  Please use a 2-D array with a single row if you really want to specify the same RGB or RGBA value for all points.\n",
      "'c' argument looks like a single numeric RGB or RGBA sequence, which should be avoided as value-mapping will have precedence in case its length matches with 'x' & 'y'.  Please use a 2-D array with a single row if you really want to specify the same RGB or RGBA value for all points.\n"
     ]
    },
    {
     "data": {
      "image/png": "[encoded data removed]",
      "text/plain": [
       "<Figure size 432x288 with 1 Axes>"
      ]
     },
     "metadata": {
      "needs_background": "light"
     },
     "output_type": "display_data"
    }
   ],
   "source": [
    "#visualize the classification\n",
    "viz_cm(bayes_classifier, [\"Radius Mean\", \"Texture Mean\"])"
   ]
  },
  {
   "cell_type": "code",
   "execution_count": 14,
   "id": "e13c0abb",
   "metadata": {},
   "outputs": [
    {
     "name": "stdout",
     "output_type": "stream",
     "text": [
      "                 Benign Malignant \n",
      "       Benign      79.0       6.0 \n",
      "    Malignant       6.0      52.0 \n"
     ]
    }
   ],
   "source": [
    "# look at decision tree classifiers\n",
    "from sklearn.tree import DecisionTreeClassifier\n",
    "dt_classifier = DecisionTreeClassifier(random_state = 1693, max_depth=5)\n",
    "dt_classifier.fit(x_train, y_train)\n",
    "dt_pred = dt_classifier.predict(x_test)\n",
    "\n",
    "#look at the confusion matrix for our decision tree\n",
    "dt_confMat = confusion_matrix(y_test, dt_pred)\n",
    "print_cm(dt_confMat, [\"Benign\", \"Malignant\"])"
   ]
  },
  {
   "cell_type": "code",
   "execution_count": 9,
   "id": "9580a7db",
   "metadata": {},
   "outputs": [
    {
     "name": "stderr",
     "output_type": "stream",
     "text": [
      "'c' argument looks like a single numeric RGB or RGBA sequence, which should be avoided as value-mapping will have precedence in case its length matches with 'x' & 'y'.  Please use a 2-D array with a single row if you really want to specify the same RGB or RGBA value for all points.\n",
      "'c' argument looks like a single numeric RGB or RGBA sequence, which should be avoided as value-mapping will have precedence in case its length matches with 'x' & 'y'.  Please use a 2-D array with a single row if you really want to specify the same RGB or RGBA value for all points.\n"
     ]
    },
    {
     "data": {
      "image/png": "[encoded data removed]",
      "text/plain": [
       "<Figure size 432x288 with 1 Axes>"
      ]
     },
     "metadata": {
      "needs_background": "light"
     },
     "output_type": "display_data"
    }
   ],
   "source": [
    "#visualize the confusion matrix\n",
    "viz_cm(dt_classifier, [\"Radius Mean\", \"Texture Mean\"])"
   ]
  },
  {
   "cell_type": "code",
   "execution_count": 10,
   "id": "2fdd28b9",
   "metadata": {},
   "outputs": [],
   "source": [
    "#visualize the decision tree itself\n",
    "from sklearn import tree\n",
    "tree.export_graphviz(dt_classifier, out_file=\"tree_dt.dot\", feature_names = [\"Radius Mean\", \"Texture Mean\"])\n",
    "\n",
    "#graphviz online website"
   ]
  },
  {
   "cell_type": "code",
   "execution_count": 11,
   "id": "74572d1c",
   "metadata": {},
   "outputs": [
    {
     "data": {
      "text/plain": [
       "RandomForestClassifier(bootstrap=True, class_weight=None, criterion='gini',\n",
       "            max_depth=3, max_features='auto', max_leaf_nodes=None,\n",
       "            min_impurity_decrease=0.0, min_impurity_split=None,\n",
       "            min_samples_leaf=1, min_samples_split=2,\n",
       "            min_weight_fraction_leaf=0.0, n_estimators=1000, n_jobs=1,\n",
       "            oob_score=False, random_state=1693, verbose=0,\n",
       "            warm_start=False)"
      ]
     },
     "execution_count": 11,
     "metadata": {},
     "output_type": "execute_result"
    }
   ],
   "source": [
    "#random forests\n",
    "from sklearn.ensemble import RandomForestClassifier\n",
    "rt_classifier = RandomForestClassifier(n_estimators = 1000, random_state = 1693, max_depth=3)\n",
    "rt_classifier.fit(x_train, y_train)"
   ]
  },
  {
   "cell_type": "code",
   "execution_count": 12,
   "id": "0ae6ab33",
   "metadata": {},
   "outputs": [
    {
     "name": "stdout",
     "output_type": "stream",
     "text": [
      "                 Benign Malignant \n",
      "       Benign      79.0       6.0 \n",
      "    Malignant       7.0      51.0 \n"
     ]
    }
   ],
   "source": [
    "#display the confusion matrix\n",
    "rt_pred = rt_classifier.predict(x_test)\n",
    "rt_cm = confusion_matrix(y_test, rt_pred)\n",
    "print_cm(rt_cm, [\"Benign\", \"Malignant\"])"
   ]
  },
  {
   "cell_type": "code",
   "execution_count": 13,
   "id": "c8a040e8",
   "metadata": {},
   "outputs": [
    {
     "name": "stderr",
     "output_type": "stream",
     "text": [
      "'c' argument looks like a single numeric RGB or RGBA sequence, which should be avoided as value-mapping will have precedence in case its length matches with 'x' & 'y'.  Please use a 2-D array with a single row if you really want to specify the same RGB or RGBA value for all points.\n",
      "'c' argument looks like a single numeric RGB or RGBA sequence, which should be avoided as value-mapping will have precedence in case its length matches with 'x' & 'y'.  Please use a 2-D array with a single row if you really want to specify the same RGB or RGBA value for all points.\n"
     ]
    },
    {
     "data": {
      "image/png": "[encoded data removed]",
      "text/plain": [
       "<Figure size 432x288 with 1 Axes>"
      ]
     },
     "metadata": {
      "needs_background": "light"
     },
     "output_type": "display_data"
    }
   ],
   "source": [
    "#visualize the confusion matrix\n",
    "viz_cm(rt_classifier, [\"Radius Mean\", \"Texture Mean\"])"
   ]
  },
  {
   "cell_type": "code",
   "execution_count": null,
   "id": "ce4a07b9",
   "metadata": {},
   "outputs": [],
   "source": []
  },
  {
   "cell_type": "code",
   "execution_count": null,
   "id": "9b43ada5",
   "metadata": {},
   "outputs": [],
   "source": []
  }
 ],
 "metadata": {
  "kernelspec": {
   "display_name": "conda_ML",
   "language": "python",
   "name": "conda_ml"
  },
  "language_info": {
   "codemirror_mode": {
    "name": "ipython",
    "version": 3
   },
   "file_extension": ".py",
   "mimetype": "text/x-python",
   "name": "python",
   "nbconvert_exporter": "python",
   "pygments_lexer": "ipython3",
   "version": "3.5.6"
  }
 },
 "nbformat": 4,
 "nbformat_minor": 5
}
