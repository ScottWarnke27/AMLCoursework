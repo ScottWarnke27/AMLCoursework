{
 "cells": [
  {
   "cell_type": "code",
   "execution_count": 1,
   "id": "0f278b28",
   "metadata": {},
   "outputs": [],
   "source": [
    "import numpy as np\n",
    "import matplotlib.pyplot as plt\n",
    "import pandas as pd"
   ]
  },
  {
   "cell_type": "code",
   "execution_count": 4,
   "id": "8b40f989",
   "metadata": {},
   "outputs": [
    {
     "data": {
      "text/plain": [
       "(129971, 14)"
      ]
     },
     "execution_count": 4,
     "metadata": {},
     "output_type": "execute_result"
    }
   ],
   "source": [
    "#using quoting =2 will help ignore the commas as seperators, and instead look at them as grammar\n",
    "#wine_data = pd.read_csv(\"./winemagdata130kv2.csv\", quoting=2)\n",
    "#wine_data.shape"
   ]
  },
  {
   "cell_type": "code",
   "execution_count": 6,
   "id": "23cb0117",
   "metadata": {},
   "outputs": [
    {
     "data": {
      "text/html": [
       "<div>\n",
       "<style scoped>\n",
       "    .dataframe tbody tr th:only-of-type {\n",
       "        vertical-align: middle;\n",
       "    }\n",
       "\n",
       "    .dataframe tbody tr th {\n",
       "        vertical-align: top;\n",
       "    }\n",
       "\n",
       "    .dataframe thead th {\n",
       "        text-align: right;\n",
       "    }\n",
       "</style>\n",
       "<table border=\"1\" class=\"dataframe\">\n",
       "  <thead>\n",
       "    <tr style=\"text-align: right;\">\n",
       "      <th></th>\n",
       "      <th>Unnamed: 0</th>\n",
       "      <th>country</th>\n",
       "      <th>description</th>\n",
       "      <th>designation</th>\n",
       "      <th>points</th>\n",
       "      <th>price</th>\n",
       "      <th>province</th>\n",
       "      <th>region_1</th>\n",
       "      <th>region_2</th>\n",
       "      <th>taster_name</th>\n",
       "      <th>taster_twitter_handle</th>\n",
       "      <th>title</th>\n",
       "      <th>variety</th>\n",
       "      <th>winery</th>\n",
       "    </tr>\n",
       "  </thead>\n",
       "  <tbody>\n",
       "    <tr>\n",
       "      <th>0</th>\n",
       "      <td>0.0</td>\n",
       "      <td>Italy</td>\n",
       "      <td>Aromas include tropical fruit, broom, brimston...</td>\n",
       "      <td>Vulkà Bianco</td>\n",
       "      <td>87.0</td>\n",
       "      <td>NaN</td>\n",
       "      <td>Sicily &amp; Sardinia</td>\n",
       "      <td>Etna</td>\n",
       "      <td>NaN</td>\n",
       "      <td>Kerin O’Keefe</td>\n",
       "      <td>@kerinokeefe</td>\n",
       "      <td>Nicosia 2013 Vulkà Bianco  (Etna)</td>\n",
       "      <td>White Blend</td>\n",
       "      <td>Nicosia</td>\n",
       "    </tr>\n",
       "  </tbody>\n",
       "</table>\n",
       "</div>"
      ],
      "text/plain": [
       "   Unnamed: 0 country                                        description  \\\n",
       "0         0.0   Italy  Aromas include tropical fruit, broom, brimston...   \n",
       "\n",
       "    designation  points  price           province region_1 region_2  \\\n",
       "0  Vulkà Bianco    87.0    NaN  Sicily & Sardinia     Etna      NaN   \n",
       "\n",
       "     taster_name taster_twitter_handle                              title  \\\n",
       "0  Kerin O’Keefe          @kerinokeefe  Nicosia 2013 Vulkà Bianco  (Etna)   \n",
       "\n",
       "       variety   winery  \n",
       "0  White Blend  Nicosia  "
      ]
     },
     "execution_count": 6,
     "metadata": {},
     "output_type": "execute_result"
    }
   ],
   "source": [
    "#look at the first row of data\n",
    "#wine_data.head(1)"
   ]
  },
  {
   "cell_type": "code",
   "execution_count": 8,
   "id": "933e2a28",
   "metadata": {},
   "outputs": [
    {
     "data": {
      "text/html": [
       "<div>\n",
       "<style scoped>\n",
       "    .dataframe tbody tr th:only-of-type {\n",
       "        vertical-align: middle;\n",
       "    }\n",
       "\n",
       "    .dataframe tbody tr th {\n",
       "        vertical-align: top;\n",
       "    }\n",
       "\n",
       "    .dataframe thead th {\n",
       "        text-align: right;\n",
       "    }\n",
       "</style>\n",
       "<table border=\"1\" class=\"dataframe\">\n",
       "  <thead>\n",
       "    <tr style=\"text-align: right;\">\n",
       "      <th></th>\n",
       "      <th>description</th>\n",
       "      <th>points</th>\n",
       "    </tr>\n",
       "  </thead>\n",
       "  <tbody>\n",
       "    <tr>\n",
       "      <th>0</th>\n",
       "      <td>Aromas include tropical fruit, broom, brimston...</td>\n",
       "      <td>87.0</td>\n",
       "    </tr>\n",
       "  </tbody>\n",
       "</table>\n",
       "</div>"
      ],
      "text/plain": [
       "                                         description  points\n",
       "0  Aromas include tropical fruit, broom, brimston...    87.0"
      ]
     },
     "execution_count": 8,
     "metadata": {},
     "output_type": "execute_result"
    }
   ],
   "source": [
    "#subset the data, and only look at description and points\n",
    "#wine_data = wine_data[[\"description\", \"points\"]]\n",
    "#wine_data.head(1)"
   ]
  },
  {
   "cell_type": "code",
   "execution_count": 12,
   "id": "4d2835e0",
   "metadata": {},
   "outputs": [
    {
     "data": {
      "text/plain": [
       "(1000, 2)"
      ]
     },
     "execution_count": 12,
     "metadata": {},
     "output_type": "execute_result"
    }
   ],
   "source": [
    "#further shrink the data...just to learn these methods\n",
    "#wine_data = wine_data.sample(1000, random_state=1693).reset_index(drop=True) #reset index just resets the index for this sample\n",
    "#wine_data.shape"
   ]
  },
  {
   "cell_type": "code",
   "execution_count": 13,
   "id": "77a0f124",
   "metadata": {},
   "outputs": [
    {
     "data": {
      "text/plain": [
       "(1000, 2)"
      ]
     },
     "execution_count": 13,
     "metadata": {},
     "output_type": "execute_result"
    }
   ],
   "source": [
    "#I commented out the previous lines to maintain the codes, but here is the only snipet we actually need\n",
    "wine_data = pd.read_csv(\"./winemagdata130kv2.csv\", quoting=2)\n",
    "wine_data = wine_data[[\"description\", \"points\"]]\n",
    "wine_data = wine_data.sample(1000, random_state=1693).reset_index(drop=True) \n",
    "wine_data.shape"
   ]
  },
  {
   "cell_type": "code",
   "execution_count": 29,
   "id": "380a309d",
   "metadata": {},
   "outputs": [
    {
     "name": "stderr",
     "output_type": "stream",
     "text": [
      "[nltk_data] Downloading package stopwords to /home/scott/nltk_data...\n",
      "[nltk_data]   Package stopwords is already up-to-date!\n"
     ]
    },
    {
     "data": {
      "text/plain": [
       "True"
      ]
     },
     "execution_count": 29,
     "metadata": {},
     "output_type": "execute_result"
    }
   ],
   "source": [
    "\n",
    "#some NLP libraries\n",
    "import re  #regex\n",
    "import time\n",
    "import nltk\n",
    "\n",
    "from nltk import download\n",
    "from nltk.stem.porter import PorterStemmer\n",
    "from nltk.corpus import stopwords\n",
    "#download('stopwords')"
   ]
  },
  {
   "cell_type": "code",
   "execution_count": 26,
   "id": "3be4dbe4",
   "metadata": {},
   "outputs": [
    {
     "name": "stdout",
     "output_type": "stream",
     "text": [
      "Of all the Atauta single-vineyard wines from the sensational 2011 vintage, La Mala is arguably the most overtly oaky and modern in style. Grainy, resiny barrel-driven aromas come with controlled burn and heat. This is tannic and firm as cement, with ample oak resin creating a creamy feel. Resiny, fully spiced black-fruit flavors end with pepper, wood grain, burnt toast and other oaky notes. Drink from 2018–2031.\n"
     ]
    }
   ],
   "source": [
    "print(wine_data[\"description\"][0])"
   ]
  },
  {
   "cell_type": "code",
   "execution_count": 27,
   "id": "1060c488",
   "metadata": {},
   "outputs": [
    {
     "data": {
      "text/plain": [
       "'Of all the Atauta singlevineyard wines from the sensational 2011 vintage La Mala is arguably the most overtly oaky and modern in style Grainy resiny barreldriven aromas come with controlled burn and heat This is tannic and firm as cement with ample oak resin creating a creamy feel Resiny fully spiced blackfruit flavors end with pepper wood grain burnt toast and other oaky notes Drink from 20182031'"
      ]
     },
     "execution_count": 27,
     "metadata": {},
     "output_type": "execute_result"
    }
   ],
   "source": [
    "wine_description = re.sub('[^a-zA-Z0-9 ]', '', wine_data[\"description\"][0])\n",
    "wine_description"
   ]
  },
  {
   "cell_type": "code",
   "execution_count": 32,
   "id": "6d97f2b9",
   "metadata": {},
   "outputs": [
    {
     "data": {
      "text/plain": [
       "'of all the atauta singlevineyard wines from the sensational 2011 vintage la mala is arguably the most overtly oaky and modern in style grainy resiny barreldriven aromas come with controlled burn and heat this is tannic and firm as cement with ample oak resin creating a creamy feel resiny fully spiced blackfruit flavors end with pepper wood grain burnt toast and other oaky notes drink from 20182031'"
      ]
     },
     "execution_count": 32,
     "metadata": {},
     "output_type": "execute_result"
    }
   ],
   "source": [
    "wine_description = wine_description.lower() #change everything to lowercase\n",
    "wine_description"
   ]
  },
  {
   "cell_type": "code",
   "execution_count": 34,
   "id": "65bfb119",
   "metadata": {},
   "outputs": [
    {
     "ename": "AttributeError",
     "evalue": "'list' object has no attribute 'split'",
     "output_type": "error",
     "traceback": [
      "\u001b[0;31m---------------------------------------------------------------------------\u001b[0m",
      "\u001b[0;31mAttributeError\u001b[0m                            Traceback (most recent call last)",
      "\u001b[0;32m<ipython-input-34-b578cec996c9>\u001b[0m in \u001b[0;36m<module>\u001b[0;34m()\u001b[0m\n\u001b[0;32m----> 1\u001b[0;31m \u001b[0mwine_description\u001b[0m \u001b[0;34m=\u001b[0m \u001b[0mwine_description\u001b[0m\u001b[0;34m.\u001b[0m\u001b[0msplit\u001b[0m\u001b[0;34m(\u001b[0m\u001b[0;34m)\u001b[0m\u001b[0;34m\u001b[0m\u001b[0m\n\u001b[0m\u001b[1;32m      2\u001b[0m \u001b[0;31m#wine_description\u001b[0m\u001b[0;34m\u001b[0m\u001b[0;34m\u001b[0m\u001b[0m\n",
      "\u001b[0;31mAttributeError\u001b[0m: 'list' object has no attribute 'split'"
     ]
    }
   ],
   "source": [
    "wine_description = wine_description.split() #this will create each word into its own element in a vector\n",
    "#wine_description"
   ]
  },
  {
   "cell_type": "code",
   "execution_count": 37,
   "id": "794f1dfc",
   "metadata": {},
   "outputs": [],
   "source": [
    "#iterate over every word in the vector, and keep it if is NOT in the stopwords list\n",
    "wine_description = [word for word in wine_description if not word in set(stopwords.words('english'))]\n",
    "#wine_description\n"
   ]
  },
  {
   "cell_type": "code",
   "execution_count": 40,
   "id": "6619fb86",
   "metadata": {},
   "outputs": [],
   "source": [
    "stemmer = PorterStemmer()\n",
    "\n",
    "#iterate over every word and just the root of each word (no tenses, plurals, etc)\n",
    "wine_description = [stemmer.stem(word) for word in wine_description]\n",
    "#wine_description"
   ]
  },
  {
   "cell_type": "code",
   "execution_count": 42,
   "id": "9a3777fb",
   "metadata": {},
   "outputs": [
    {
     "data": {
      "text/plain": [
       "'a t a u t a   s i n g l e v i n e y a r d   w i n e   s e n s a t   2 0 1 1   v i n t a g   l a   m a l a   a r g u a b l   o v e r t l i   o a k i   m o d e r n   s t y l e   g r a i n i   r e s i n i   b a r r e l d r i v e n   a r o m a   c o m e   c o n t r o l   b u r n   h e a t   t a n n i c   f i r m   c e m e n t   a m p l   o a k   r e s i n   c r e a t   c r e a m i   f e e l   r e s i n i   f u l l i   s p i c e   b l a c k f r u i t   f l a v o r   e n d   p e p p e r   w o o d   g r a i n   b u r n t   t o a s t   o a k i   n o t e   d r i n k   2 0 1 8 2 0 3 1'"
      ]
     },
     "execution_count": 42,
     "metadata": {},
     "output_type": "execute_result"
    }
   ],
   "source": [
    "# before this line, the list of words was a long column vector, this returns it back as a single string\n",
    "wine_description = \" \".join(wine_description)\n",
    "wine_description"
   ]
  },
  {
   "cell_type": "code",
   "execution_count": 43,
   "id": "65562044",
   "metadata": {},
   "outputs": [
    {
     "name": "stdout",
     "output_type": "stream",
     "text": [
      "CPU times: user 5.46 s, sys: 457 ms, total: 5.92 s\n",
      "Wall time: 5.92 s\n"
     ]
    }
   ],
   "source": [
    "%%time\n",
    "#in python i think it is start=time.time()\n",
    "wine_data = pd.read_csv(\"./winemagdata130kv2.csv\", quoting=2)\n",
    "wine_data = wine_data[[\"description\", \"points\"]]\n",
    "wine_data = wine_data.sample(1000, random_state=1693).reset_index(drop=True) \n",
    "\n",
    "corpus = []\n",
    "\n",
    "for i in range(0, len(wine_data)):\n",
    "    wine_description = re.sub('[^a-zA-Z0-9 ]', '', wine_data[\"description\"][i])\n",
    "    wine_description = wine_description.lower()\n",
    "    wine_description = wine_description.split()\n",
    "    wine_description = [word for word in wine_description if not word in set(stopwords.words('english'))]\n",
    "    stemmer = PorterStemmer()\n",
    "    wine_description = [stemmer.stem(word) for word in wine_description]\n",
    "    wine_description = \" \".join(wine_description)\n",
    "    corpus.append(wine_description)\n",
    "    \n",
    "#end=time.time()\n",
    "#print(\"CPU time (in seconds): \" + str(end-start))"
   ]
  },
  {
   "cell_type": "code",
   "execution_count": 44,
   "id": "968c149d",
   "metadata": {},
   "outputs": [
    {
     "name": "stdout",
     "output_type": "stream",
     "text": [
      "This medium-bodied Sauvignon Blanc adds a bit of creamy depth on the midpalate, while its aromas and flavors of fig and melon are on the ripe side for Marlborough. Despite that, it's still clean and refreshing, with a long, citrus-pith finish.\n",
      "mediumbodi sauvignon blanc add bit creami depth midpal aroma flavor fig melon ripe side marlborough despit still clean refresh long citruspith finish\n"
     ]
    }
   ],
   "source": [
    "#print(wine_data[\"description\"][2]) # or try 345\n",
    "#print(corpus[2]) #or try 345"
   ]
  },
  {
   "cell_type": "code",
   "execution_count": 46,
   "id": "f73189ec",
   "metadata": {},
   "outputs": [
    {
     "name": "stdout",
     "output_type": "stream",
     "text": [
      "CPU times: user 77.1 ms, sys: 12.6 ms, total: 89.7 ms\n",
      "Wall time: 88 ms\n"
     ]
    }
   ],
   "source": [
    "%%time\n",
    "from sklearn.feature_extraction.text import CountVectorizer\n",
    "countVec = CountVectorizer()  \n",
    "x_raw = countVec.fit_transform(corpus) #gets the word occurence count for each word in every sentance \n",
    "x = x_raw.toarray() #turn this into a feature matrix"
   ]
  },
  {
   "cell_type": "code",
   "execution_count": 49,
   "id": "de1e3ae7",
   "metadata": {},
   "outputs": [
    {
     "name": "stdout",
     "output_type": "stream",
     "text": [
      "              0    1    2    3    4    5    6    7    8    9   ...   990  991  \\\n",
      "04              0    0    0    0    0    0    0    0    0    0 ...     0    0   \n",
      "06              0    0    0    0    0    0    0    0    0    0 ...     0    0   \n",
      "07              0    0    0    0    0    0    0    0    0    0 ...     0    0   \n",
      "08              0    0    0    0    0    0    0    0    0    0 ...     0    0   \n",
      "10              0    0    0    0    0    0    0    0    0    0 ...     0    0   \n",
      "100             0    0    0    0    0    0    0    0    0    0 ...     0    0   \n",
      "1015            0    0    0    0    0    0    0    0    0    0 ...     0    0   \n",
      "11              0    0    0    0    0    0    0    0    0    0 ...     0    0   \n",
      "12              0    0    0    0    0    0    0    0    0    1 ...     0    0   \n",
      "1200feet        0    0    0    0    0    0    0    0    0    0 ...     0    0   \n",
      "12th            0    0    0    0    0    0    0    0    0    0 ...     0    0   \n",
      "12thcenturi     0    0    0    0    0    0    0    0    0    0 ...     0    0   \n",
      "13              0    0    0    0    0    0    0    0    0    0 ...     0    0   \n",
      "140             0    0    0    0    0    0    0    0    0    0 ...     0    0   \n",
      "15              0    0    0    0    0    0    0    0    0    0 ...     0    0   \n",
      "150             0    0    0    0    0    0    0    0    0    0 ...     0    0   \n",
      "16              0    0    0    0    0    0    0    0    0    0 ...     0    0   \n",
      "165             0    0    0    0    0    0    0    0    0    0 ...     0    0   \n",
      "1667            0    0    0    0    0    0    0    0    0    0 ...     0    0   \n",
      "1674            0    0    0    0    0    0    0    0    0    0 ...     0    0   \n",
      "16gl            0    0    0    0    0    0    0    0    0    0 ...     0    0   \n",
      "17              0    0    0    0    0    0    0    0    0    0 ...     0    0   \n",
      "18              0    0    0    0    0    0    0    0    0    0 ...     0    0   \n",
      "1965            0    0    0    0    0    0    0    0    0    0 ...     0    0   \n",
      "1975            0    0    0    0    0    0    0    0    0    0 ...     0    0   \n",
      "1991            0    0    0    0    0    0    0    0    0    0 ...     0    0   \n",
      "19thcenturi     0    0    0    0    0    0    0    0    0    0 ...     0    0   \n",
      "20              0    0    0    0    0    0    0    0    0    0 ...     0    0   \n",
      "2000            0    0    0    0    0    0    0    0    0    0 ...     0    0   \n",
      "20000           0    0    0    0    0    0    0    0    0    0 ...     0    0   \n",
      "...           ...  ...  ...  ...  ...  ...  ...  ...  ...  ... ...   ...  ...   \n",
      "year            0    0    0    0    0    0    0    0    0    0 ...     0    0   \n",
      "yeast           0    0    0    0    0    0    0    0    0    0 ...     0    0   \n",
      "yeasti          0    0    0    0    0    0    0    0    0    0 ...     0    0   \n",
      "yellow          0    0    0    0    0    0    0    0    0    0 ...     0    0   \n",
      "yellowcherri    0    0    0    0    0    0    0    0    0    0 ...     0    0   \n",
      "yet             0    0    0    0    0    0    0    0    0    0 ...     0    0   \n",
      "yield           0    0    0    0    0    0    0    0    0    0 ...     0    0   \n",
      "yorkvil         0    0    0    0    0    0    0    0    0    0 ...     0    0   \n",
      "youd            0    0    0    0    0    0    0    0    0    0 ...     0    0   \n",
      "youll           0    0    0    0    0    0    0    0    0    0 ...     0    0   \n",
      "young           0    0    0    0    1    0    0    0    0    1 ...     0    0   \n",
      "youngtast       0    0    0    0    0    0    0    0    0    0 ...     0    0   \n",
      "your            0    0    0    0    0    0    0    0    0    0 ...     0    0   \n",
      "youth           0    0    0    0    0    0    0    0    0    0 ...     0    0   \n",
      "yumfest         0    0    0    0    0    0    0    0    0    0 ...     0    0   \n",
      "yummi           0    0    0    0    0    0    0    0    0    0 ...     0    0   \n",
      "yuzu            0    0    0    0    0    0    0    0    0    0 ...     0    0   \n",
      "zach            0    0    0    0    0    0    0    0    0    0 ...     0    0   \n",
      "zealand         0    0    0    0    0    0    0    0    0    0 ...     0    0   \n",
      "zero            0    0    0    0    0    0    0    0    0    0 ...     0    0   \n",
      "zest            0    0    0    0    0    0    0    0    0    0 ...     0    0   \n",
      "zesti           0    0    0    0    0    0    0    0    0    0 ...     0    0   \n",
      "zestier         0    0    0    0    0    0    0    0    0    0 ...     0    0   \n",
      "zin             0    0    0    0    0    0    0    0    0    0 ...     0    0   \n",
      "zinfandel       0    0    0    0    0    0    0    0    0    0 ...     0    0   \n",
      "zinwannab       0    0    0    0    0    0    0    0    0    0 ...     0    0   \n",
      "zippi           0    0    0    0    0    0    0    0    0    0 ...     0    0   \n",
      "zone            0    0    0    0    0    0    0    0    0    0 ...     0    0   \n",
      "zull            0    0    0    0    0    0    0    0    0    0 ...     0    0   \n",
      "zweigelt        0    0    0    0    0    0    0    0    0    0 ...     0    0   \n",
      "\n",
      "              992  993  994  995  996  997  998  999  \n",
      "04              0    0    0    0    0    0    0    0  \n",
      "06              0    0    0    0    0    0    0    0  \n",
      "07              0    0    0    0    0    0    0    0  \n",
      "08              0    0    0    0    0    0    0    0  \n",
      "10              0    0    0    0    0    0    0    0  \n",
      "100             0    0    0    0    0    0    0    0  \n",
      "1015            0    0    0    0    0    0    0    0  \n",
      "11              0    0    0    0    0    0    0    0  \n",
      "12              0    0    0    0    0    0    0    0  \n",
      "1200feet        0    0    0    0    0    0    0    0  \n",
      "12th            0    0    0    0    0    0    0    0  \n",
      "12thcenturi     0    0    0    0    0    0    0    0  \n",
      "13              0    0    0    0    0    0    0    0  \n",
      "140             0    0    0    0    0    0    0    0  \n",
      "15              0    0    0    0    0    0    0    0  \n",
      "150             0    0    0    0    0    0    0    0  \n",
      "16              0    0    0    0    0    0    0    0  \n",
      "165             0    0    0    0    0    0    0    0  \n",
      "1667            0    0    0    0    0    0    0    0  \n",
      "1674            0    0    0    0    0    0    0    0  \n",
      "16gl            0    0    0    0    0    0    0    0  \n",
      "17              0    0    0    0    0    0    0    0  \n",
      "18              0    0    0    0    0    0    0    0  \n",
      "1965            0    0    0    0    0    0    0    0  \n",
      "1975            0    0    0    0    0    0    0    0  \n",
      "1991            0    0    0    0    0    0    0    0  \n",
      "19thcenturi     0    0    0    0    0    0    0    0  \n",
      "20              0    0    0    0    0    0    0    0  \n",
      "2000            0    0    0    0    0    0    0    0  \n",
      "20000           0    0    0    0    0    0    0    0  \n",
      "...           ...  ...  ...  ...  ...  ...  ...  ...  \n",
      "year            0    0    2    0    0    0    0    0  \n",
      "yeast           0    0    0    0    0    0    0    0  \n",
      "yeasti          0    0    0    0    0    0    0    0  \n",
      "yellow          0    0    0    0    0    0    0    0  \n",
      "yellowcherri    0    0    0    0    0    0    0    0  \n",
      "yet             0    0    0    0    0    0    0    0  \n",
      "yield           0    0    0    0    0    0    0    0  \n",
      "yorkvil         0    0    0    0    0    0    0    0  \n",
      "youd            0    0    0    0    0    0    0    0  \n",
      "youll           0    0    0    0    0    0    0    0  \n",
      "young           0    1    0    0    0    0    0    0  \n",
      "youngtast       0    0    0    0    0    0    0    0  \n",
      "your            0    0    0    0    0    0    0    0  \n",
      "youth           0    0    0    0    0    0    0    0  \n",
      "yumfest         0    0    0    0    0    0    0    0  \n",
      "yummi           0    0    0    0    0    0    0    0  \n",
      "yuzu            0    0    0    0    0    0    0    0  \n",
      "zach            0    0    0    0    0    0    0    0  \n",
      "zealand         0    0    0    0    0    0    0    0  \n",
      "zero            0    0    0    0    0    0    0    0  \n",
      "zest            0    0    0    0    0    0    0    0  \n",
      "zesti           0    0    0    0    0    0    0    0  \n",
      "zestier         0    0    0    0    0    0    0    0  \n",
      "zin             0    0    0    0    0    0    0    0  \n",
      "zinfandel       0    0    0    0    0    0    0    0  \n",
      "zinwannab       0    0    0    0    0    0    0    0  \n",
      "zippi           0    0    0    0    0    0    0    0  \n",
      "zone            0    0    0    0    0    0    0    0  \n",
      "zull            0    0    0    0    0    0    0    0  \n",
      "zweigelt        0    0    0    0    0    0    0    0  \n",
      "\n",
      "[3460 rows x 1000 columns]\n"
     ]
    }
   ],
   "source": [
    "#x\n",
    "#print(pd.DataFrame(x_raw.A, columns=countVec.get_feature_names()).transpose())"
   ]
  },
  {
   "cell_type": "code",
   "execution_count": 50,
   "id": "c24283f2",
   "metadata": {},
   "outputs": [
    {
     "data": {
      "image/png": "[encoded data removed]",
      "text/plain": [
       "<Figure size 432x288 with 1 Axes>"
      ]
     },
     "metadata": {
      "needs_background": "light"
     },
     "output_type": "display_data"
    }
   ],
   "source": [
    "#look atthe histogram of the data\n",
    "n, bins, patches = plt.hist(wine_data[\"points\"].values, 10, density=1, facecolor=\"green\", alpha=0.7)\n",
    "#plt.savefig(\"outputs/nlp_hist.png\")\n",
    "#\n",
    "#we can use this to determine a break point for good v other wine"
   ]
  },
  {
   "cell_type": "code",
   "execution_count": 53,
   "id": "4b1c1b53",
   "metadata": {},
   "outputs": [],
   "source": [
    "#this is going to create a new classification to use to fit the feature matrix on this new classification\n",
    "y = wine_data[\"points\"]\n",
    "y = y.where(y>90, other=0).where(y <= 90, other=1).values\n",
    "#y"
   ]
  },
  {
   "cell_type": "code",
   "execution_count": 56,
   "id": "79ac6993",
   "metadata": {},
   "outputs": [],
   "source": [
    "from sklearn.model_selection import train_test_split\n",
    "from sklearn.linear_model import LogisticRegression\n",
    "\n",
    "x_train, x_test, y_train, y_test = train_test_split(x,y,test_size=0.25, random_state=1693)\n",
    "classifier = LogisticRegression(random_state = 1693)\n",
    "classifier.fit(x_train, y_train)\n",
    "y_pred = classifier.predict(x_test)\n",
    "#y_pred"
   ]
  },
  {
   "cell_type": "code",
   "execution_count": 57,
   "id": "29c64019",
   "metadata": {},
   "outputs": [
    {
     "name": "stdout",
     "output_type": "stream",
     "text": [
      "               Bad Wine Good Wine \n",
      "     Bad Wine     165.0      12.0 \n",
      "    Good Wine      41.0      32.0 \n"
     ]
    }
   ],
   "source": [
    "from sklearn.metrics import confusion_matrix\n",
    "\n",
    "\n",
    "def print_cm(cm, labels, hide_zeroes=False, hide_diagonal=False, hide_threshold=None):\n",
    "    \"\"\"pretty print for confusion matrixes\"\"\"\n",
    "    columnwidth = max([len(x) for x in labels] + [5])  # 5 is value length\n",
    "    empty_cell = \" \" * columnwidth\n",
    "    # Print header\n",
    "    print(\"    \" + empty_cell, end=\" \")\n",
    "    for label in labels:\n",
    "        print(\"%{0}s\".format(columnwidth) % label, end=\" \")\n",
    "    print()\n",
    "    # Print rows\n",
    "    for i, label1 in enumerate(labels):\n",
    "        print(\"    %{0}s\".format(columnwidth) % label1, end=\" \")\n",
    "        for j in range(len(labels)):\n",
    "            cell = \"%{0}.1f\".format(columnwidth) % cm[i, j]\n",
    "            if hide_zeroes:\n",
    "                cell = cell if float(cm[i, j]) != 0 else empty_cell\n",
    "            if hide_diagonal:\n",
    "                cell = cell if i != j else empty_cell\n",
    "            if hide_threshold:\n",
    "                cell = cell if cm[i, j] > hide_threshold else empty_cell\n",
    "            print(cell, end=\" \")\n",
    "        print()\n",
    "\n",
    "# This is slightly different than the video, which has a small error.\n",
    "confMat = confusion_matrix(y_test, y_pred)\n",
    "print_cm(confMat, [\"Bad Wine\", \"Good Wine\"])\n",
    "\n",
    "#top is the truth, left side is our prediction"
   ]
  },
  {
   "cell_type": "code",
   "execution_count": 68,
   "id": "1962b4ce",
   "metadata": {},
   "outputs": [
    {
     "name": "stdout",
     "output_type": "stream",
     "text": [
      "               Bad Wine Good Wine \n",
      "     Bad Wine     145.0      32.0 \n",
      "    Good Wine      49.0      24.0 \n"
     ]
    }
   ],
   "source": [
    "#answer lab questions\n",
    "\n",
    "from sklearn.tree import DecisionTreeClassifier\n",
    "from sklearn.preprocessing import StandardScaler\n",
    "\n",
    "dt_x_train, dt_x_test, dt_y_train, dt_y_test = train_test_split(x,y,test_size=0.25, random_state=1693)\n",
    "#scale_x = StandardScaler()\n",
    "#dt_x_train = scale_x.fit_transform(dt_x_train)\n",
    "#dt_x_test = scale_x. transform(dt_x_test)\n",
    "#dt_classifier = DecisionTreeClassifier(random_state = 1693, max_depth=3)\n",
    "dt_classifier = DecisionTreeClassifier(random_state = 1693)\n",
    "dt_classifier.fit(dt_x_train, dt_y_train)\n",
    "dt_y_pred = dt_classifier.predict(dt_x_test)\n",
    "\n",
    "# This is slightly different than the video, which has a small error.\n",
    "confMat = confusion_matrix(dt_y_test, dt_y_pred)\n",
    "print_cm(confMat, [\"Bad Wine\", \"Good Wine\"])"
   ]
  },
  {
   "cell_type": "code",
   "execution_count": 63,
   "id": "72304319",
   "metadata": {},
   "outputs": [
    {
     "name": "stdout",
     "output_type": "stream",
     "text": [
      "               Bad Wine Good Wine \n",
      "     Bad Wine     118.0      59.0 \n",
      "    Good Wine      44.0      29.0 \n"
     ]
    }
   ],
   "source": [
    "#answer lab questions\n",
    "from sklearn.naive_bayes import GaussianNB\n",
    "\n",
    "\n",
    "nb_x_train, nb_x_test, nb_y_train, nb_y_test = train_test_split(x,y,test_size=0.25, random_state=1693)\n",
    "bayes_classifier = GaussianNB()\n",
    "bayes_classifier.fit(nb_x_train, nb_y_train)\n",
    "nb_y_pred = bayes_classifier.predict(nb_x_test)\n",
    "\n",
    "confMat= confusion_matrix(nb_y_test, nb_y_pred)\n",
    "print_cm(confMat, [\"Bad Wine\", \"Good Wine\"])"
   ]
  },
  {
   "cell_type": "code",
   "execution_count": null,
   "id": "ab109802",
   "metadata": {},
   "outputs": [],
   "source": []
  }
 ],
 "metadata": {
  "kernelspec": {
   "display_name": "conda_ML",
   "language": "python",
   "name": "conda_ml"
  },
  "language_info": {
   "codemirror_mode": {
    "name": "ipython",
    "version": 3
   },
   "file_extension": ".py",
   "mimetype": "text/x-python",
   "name": "python",
   "nbconvert_exporter": "python",
   "pygments_lexer": "ipython3",
   "version": "3.5.6"
  }
 },
 "nbformat": 4,
 "nbformat_minor": 5
}
