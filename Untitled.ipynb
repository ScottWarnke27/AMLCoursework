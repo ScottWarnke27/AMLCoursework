{
 "cells": [
  {
   "cell_type": "code",
   "execution_count": 1,
   "id": "948acefa",
   "metadata": {},
   "outputs": [
    {
     "data": {
      "text/plain": [
       "0.6"
      ]
     },
     "execution_count": 1,
     "metadata": {},
     "output_type": "execute_result"
    }
   ],
   "source": [
    "3/5\n"
   ]
  },
  {
   "cell_type": "code",
   "execution_count": 3,
   "id": "29b02c43",
   "metadata": {},
   "outputs": [
    {
     "data": {
      "text/plain": [
       "5.694218749999995"
      ]
     },
     "execution_count": 3,
     "metadata": {},
     "output_type": "execute_result"
    }
   ],
   "source": [
    "0.36443/(17.862-17.798)"
   ]
  },
  {
   "cell_type": "code",
   "execution_count": 4,
   "id": "86d36565",
   "metadata": {},
   "outputs": [
    {
     "data": {
      "text/plain": [
       "6.073333333333463"
      ]
     },
     "execution_count": 4,
     "metadata": {},
     "output_type": "execute_result"
    }
   ],
   "source": [
    "0.3644/(17.86-17.80)"
   ]
  },
  {
   "cell_type": "code",
   "execution_count": 5,
   "id": "a201d9d7",
   "metadata": {},
   "outputs": [
    {
     "data": {
      "text/plain": [
       "3.6400000000000774"
      ]
     },
     "execution_count": 5,
     "metadata": {},
     "output_type": "execute_result"
    }
   ],
   "source": [
    "0.364/(17.9-17.8)"
   ]
  },
  {
   "cell_type": "code",
   "execution_count": 9,
   "id": "e1b390b1",
   "metadata": {},
   "outputs": [
    {
     "ename": "NameError",
     "evalue": "name 'math' is not defined",
     "output_type": "error",
     "traceback": [
      "\u001b[0;31m---------------------------------------------------------------------------\u001b[0m",
      "\u001b[0;31mNameError\u001b[0m                                 Traceback (most recent call last)",
      "Input \u001b[0;32mIn [9]\u001b[0m, in \u001b[0;36m<cell line: 1>\u001b[0;34m()\u001b[0m\n\u001b[0;32m----> 1\u001b[0m \u001b[43mmath\u001b[49m\u001b[38;5;241m.\u001b[39msqrt(\u001b[38;5;241m4\u001b[39m)\n",
      "\u001b[0;31mNameError\u001b[0m: name 'math' is not defined"
     ]
    }
   ],
   "source": [
    "math.sqrt(4)"
   ]
  },
  {
   "cell_type": "code",
   "execution_count": 10,
   "id": "a53aff4d",
   "metadata": {},
   "outputs": [],
   "source": [
    "import numpy as np\n",
    "import math"
   ]
  },
  {
   "cell_type": "code",
   "execution_count": 11,
   "id": "73e77a2a",
   "metadata": {},
   "outputs": [
    {
     "data": {
      "text/plain": [
       "2.0"
      ]
     },
     "execution_count": 11,
     "metadata": {},
     "output_type": "execute_result"
    }
   ],
   "source": [
    "math.sqrt(4)"
   ]
  },
  {
   "cell_type": "code",
   "execution_count": 18,
   "id": "2dcc52b8",
   "metadata": {},
   "outputs": [
    {
     "data": {
      "text/plain": [
       "0.05012562893380057"
      ]
     },
     "execution_count": 18,
     "metadata": {},
     "output_type": "execute_result"
    }
   ],
   "source": [
    "(20- math.sqrt((20**2 -4)))/2"
   ]
  },
  {
   "cell_type": "code",
   "execution_count": 16,
   "id": "459d05a9",
   "metadata": {},
   "outputs": [
    {
     "data": {
      "text/plain": [
       "18"
      ]
     },
     "execution_count": 16,
     "metadata": {},
     "output_type": "execute_result"
    }
   ],
   "source": [
    "(20^2)-4"
   ]
  },
  {
   "cell_type": "code",
   "execution_count": 20,
   "id": "cd1552af",
   "metadata": {},
   "outputs": [
    {
     "data": {
      "text/plain": [
       "1.3796296219838442"
      ]
     },
     "execution_count": 20,
     "metadata": {},
     "output_type": "execute_result"
    }
   ],
   "source": [
    "1.4* math.sin(1.4)"
   ]
  },
  {
   "cell_type": "code",
   "execution_count": 21,
   "id": "f572ba52",
   "metadata": {},
   "outputs": [
    {
     "data": {
      "text/plain": [
       "1.3744886336910147"
      ]
     },
     "execution_count": 21,
     "metadata": {},
     "output_type": "execute_result"
    }
   ],
   "source": [
    "1.4* math.sin(1.3796)"
   ]
  },
  {
   "cell_type": "code",
   "execution_count": 22,
   "id": "43c1c7c3",
   "metadata": {},
   "outputs": [
    {
     "data": {
      "text/plain": [
       "1.3731111941837404"
      ]
     },
     "execution_count": 22,
     "metadata": {},
     "output_type": "execute_result"
    }
   ],
   "source": [
    "1.4* math.sin(1.37449)"
   ]
  },
  {
   "cell_type": "code",
   "execution_count": 23,
   "id": "935d2f1e",
   "metadata": {},
   "outputs": [
    {
     "data": {
      "text/plain": [
       "1.372733329171677"
      ]
     },
     "execution_count": 23,
     "metadata": {},
     "output_type": "execute_result"
    }
   ],
   "source": [
    "1.4* math.sin(1.373111)"
   ]
  },
  {
   "cell_type": "code",
   "execution_count": 24,
   "id": "53d8cad5",
   "metadata": {},
   "outputs": [
    {
     "data": {
      "text/plain": [
       "1.3726292960821653"
      ]
     },
     "execution_count": 24,
     "metadata": {},
     "output_type": "execute_result"
    }
   ],
   "source": [
    "1.4* math.sin(1.372733)"
   ]
  },
  {
   "cell_type": "code",
   "execution_count": 31,
   "id": "9963fa8c",
   "metadata": {},
   "outputs": [
    {
     "data": {
      "text/plain": [
       "0.02"
      ]
     },
     "execution_count": 31,
     "metadata": {},
     "output_type": "execute_result"
    }
   ],
   "source": [
    "x=(1)\n",
    "x**4 - x + 0.02"
   ]
  },
  {
   "cell_type": "code",
   "execution_count": 38,
   "id": "194ba490",
   "metadata": {},
   "outputs": [
    {
     "data": {
      "text/plain": [
       "1.599999999990498e-07"
      ]
     },
     "execution_count": 38,
     "metadata": {},
     "output_type": "execute_result"
    }
   ],
   "source": [
    "y=(0.02)\n",
    "y**4 - y + 0.02"
   ]
  },
  {
   "cell_type": "code",
   "execution_count": 39,
   "id": "d07168a1",
   "metadata": {},
   "outputs": [
    {
     "data": {
      "text/plain": [
       "0.01999984000001"
      ]
     },
     "execution_count": 39,
     "metadata": {},
     "output_type": "execute_result"
    }
   ],
   "source": [
    "z=(1.5999999*(10**-7))\n",
    "z**4 - z + 0.02"
   ]
  },
  {
   "cell_type": "code",
   "execution_count": 40,
   "id": "517da737",
   "metadata": {},
   "outputs": [
    {
     "data": {
      "text/plain": [
       "1.159968002401035e-06"
      ]
     },
     "execution_count": 40,
     "metadata": {},
     "output_type": "execute_result"
    }
   ],
   "source": [
    "a=(0.019999)\n",
    "a**4 - a + 0.02"
   ]
  },
  {
   "cell_type": "code",
   "execution_count": 41,
   "id": "bae558eb",
   "metadata": {},
   "outputs": [
    {
     "data": {
      "text/plain": [
       "0.01999840032"
      ]
     },
     "execution_count": 41,
     "metadata": {},
     "output_type": "execute_result"
    }
   ],
   "source": [
    "b=(1.59968*(10**-6))\n",
    "b**4 - b + 0.02"
   ]
  },
  {
   "cell_type": "code",
   "execution_count": null,
   "id": "8acf7a2b",
   "metadata": {},
   "outputs": [],
   "source": []
  }
 ],
 "metadata": {
  "kernelspec": {
   "display_name": "Python 3 (ipykernel)",
   "language": "python",
   "name": "python3"
  },
  "language_info": {
   "codemirror_mode": {
    "name": "ipython",
    "version": 3
   },
   "file_extension": ".py",
   "mimetype": "text/x-python",
   "name": "python",
   "nbconvert_exporter": "python",
   "pygments_lexer": "ipython3",
   "version": "3.10.6"
  }
 },
 "nbformat": 4,
 "nbformat_minor": 5
}
